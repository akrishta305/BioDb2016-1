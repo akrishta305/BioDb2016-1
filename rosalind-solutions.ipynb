{
 "cells": [
  {
   "cell_type": "markdown",
   "metadata": {},
   "source": [
    "# Rosalind Bioinformatics Stronghold Solutions"
   ]
  },
  {
   "cell_type": "markdown",
   "metadata": {},
   "source": [
    "## Prerequisites"
   ]
  },
  {
   "cell_type": "code",
   "execution_count": 4,
   "metadata": {
    "collapsed": true
   },
   "outputs": [],
   "source": [
    "from IPython.core.interactiveshell import InteractiveShell\n",
    "InteractiveShell.ast_node_interactivity = \"all\""
   ]
  },
  {
   "cell_type": "code",
   "execution_count": 23,
   "metadata": {
    "collapsed": false
   },
   "outputs": [],
   "source": [
    "def read_dataset_str(filename):\n",
    "    '''Returns a string.'''\n",
    "    with open(filename) as inf:\n",
    "        return [i.strip() for i in inf.readlines()][0]"
   ]
  },
  {
   "cell_type": "code",
   "execution_count": 3,
   "metadata": {
    "collapsed": false
   },
   "outputs": [],
   "source": [
    "def read_dataset_list(filename):\n",
    "    '''Returns a list.'''\n",
    "    with open(filename) as inf:\n",
    "        return [i.strip() for i in inf.readlines()]"
   ]
  },
  {
   "cell_type": "markdown",
   "metadata": {},
   "source": [
    "## DNA: Counting DNA Nucleotides"
   ]
  },
  {
   "cell_type": "code",
   "execution_count": 30,
   "metadata": {
    "collapsed": false,
    "scrolled": true
   },
   "outputs": [
    {
     "name": "stdout",
     "output_type": "stream",
     "text": [
      "20 12 17 21\n",
      "246 248 231 264\n"
     ]
    }
   ],
   "source": [
    "def dna(str_in):\n",
    "    answer = [str_in.count(nucl) for nucl in ['A', 'C', 'G', 'T']]\n",
    "    print(*answer)\n",
    "\n",
    "dna('AGCTTTTCATTCTGACTGCAACGGGCAATATGTCTCTGTGTGGATTAAAAAAAGAGTGTCTGATAGCAGC')\n",
    "dna(read_dataset_str('rosalind_dna.txt'))"
   ]
  },
  {
   "cell_type": "markdown",
   "metadata": {},
   "source": [
    "## RNA: Transcribing DNA into RNA"
   ]
  },
  {
   "cell_type": "code",
   "execution_count": 31,
   "metadata": {
    "collapsed": false
   },
   "outputs": [
    {
     "data": {
      "text/plain": [
       "'GAUGGAACUUGACUACGUAAAUU'"
      ]
     },
     "execution_count": 31,
     "metadata": {},
     "output_type": "execute_result"
    },
    {
     "data": {
      "text/plain": [
       "'GGUCACCCGACGAUCCUGGGGGGUCGGAACGGCUGGGACGCAGCCCAGUCCAUAAUACCUGGACGUGGCCCGCCGCUCAUGAGCCUGCGUAACGGGCAAUUCGAACUCAUUACUCAGCUCAGACGAAAAGUAAUUAGUGGUCCGGCUUAUAGCUUGAUAACCCGUAAGUGCUCUAGCCCCCAUACCUUCAAAGGCUAGCGUAGCAAGGGCAGAGAGUCCUGGGUUCAGGCCGUCGAUUGACGAUACAUACCUGAGCGGCUUACUAAAGCUUAGGUAUGUCGGGGGGCCAGACGUAUGCCCCCGCGGAUAAGGUCGUCUUAGGGGUAUCGUCAGUAACAGUUGCAUUAUGGCCCCACGCUGGCAUCGUUUGAAGAUCCGCUUAAAGGCGAAGAAUAAUAAGUUGGGAAUUCUAUCUUCAUCCGAUCCUAUAGUUCUAACCAUGUCAUAGUUCAUAGGUAUAUAGAGUACGCUCAGUGCGGCUAACCUAAAAGUAAAGUGCGUGAUAGGACUGCAGAUGUGAUUCAAAACAGGAGUGUCGAGCACCAUAAGUAUACAAGAACUUCGUGCGGGCCGGCACUAUGCUAUCAUUUAGGACCCGUGUGCUCGAGAAAGGUCUUUGCUGGCAGCUGUGUUGCUAACUACCGUUGAUAUUAAACUGAGCUCGUAAUAUAGAAAUAAGAUGACACAUCAUUCGCAAGCACGCUGUAUGGGCUAUGGUAAAGACCUUAAUGAAAAGGCCAGUAGGCCCGAGCGCAACGCUGCAAUGCGUGGACAACGACCGGCUACCAAUUUUUCCGAAAAGUCGUACUAAGGUAAGACAAGGGCCCCAGUUCGUCCUUCAUGAGGGUAGAAAAUACCCUCGUUGCGACAGUUGCGAUCCCAGAGGAAUUAGUAAUUGACGAAGUCCCCCUAGCCCUCGCCGCCCGUG'"
      ]
     },
     "execution_count": 31,
     "metadata": {},
     "output_type": "execute_result"
    }
   ],
   "source": [
    "def rna(str_in):\n",
    "    return str_in.replace('T', 'U')\n",
    "\n",
    "rna('GATGGAACTTGACTACGTAAATT')\n",
    "rna(read_dataset_str('rosalind_rna.txt'))"
   ]
  },
  {
   "cell_type": "markdown",
   "metadata": {},
   "source": [
    "## REVC: Complementing a Strand of DNA"
   ]
  },
  {
   "cell_type": "code",
   "execution_count": 39,
   "metadata": {
    "collapsed": false
   },
   "outputs": [
    {
     "data": {
      "text/plain": [
       "'ACCGGGTTTT'"
      ]
     },
     "execution_count": 39,
     "metadata": {},
     "output_type": "execute_result"
    },
    {
     "data": {
      "text/plain": [
       "'ACAGAGACGGCGGGTGTGCGTGCCCACAGTTCGAACCCTGGACAACCGCGCAGATGGATGATTTAAGATGCCTCACCTCTTGCATGAGTTGCCTTACACCCGCACTCTATCCGGACCGATCCAACAGACTAGCCCAAAGCTGAGGGAAGACGGGCATAGCGGCACTGCATTAGAAAAACTCCCGCAACACCGGGTAGTCCGAGACCCCCACCCTTAAACATGGTCTAGCGTGGTACAAAGATAGCCCTCGTAATACAACTACCCCTGCAACGTCATCGCAACTTATCGTTGACATACTTGGATAATGCCCTTTTAAGGTTGTGAGTTGGTAATAGTGCCCGGATTGCCGTTGCGGCGGGCAAGTTCTTCCACCAATATCAGGGGTGTTCACCACCTTCGTAGAATTTGACAGATGACCGACCAACAACGCTGTAGGAATCAAGTGAAGTAAACCTGCGGTTCTGAATTTTATGCGTCCTGCCTTGATGGTGGAGTGTAAGTGGACCGTTACGGAATACTCGTACAAAACTGACCCGGGGATCACCGCTCGAACATTCGGCTGCGCATAAACCCGAGGTCCGAATGAGGCCATGGTAAGAGTTAGAGTGGTGACCCTGCGATCGGAGAGAGATAACGGCCGTATGATTGCCTGGCGTCAAGACCCAGGTCCCAGCGTTGGCTTACGATTCCTCAATATCGGTGACGGGAAAGGTGACAAGAGTACAGGTGATCCGACGTCCGGTGTTACGCATACGATCGACAAGCGAAGACTCTACAGGATGCTTTTGATTAGGTATAGGCTTAGGTCACGAGCAGACTAGCCTATGTAGGCCAGCAAATAAATGTCAAGGAAGTTCAGCTCAACGATAAATAGCACGATAATTTGTGGTTCGGTGTACACAAATCATGTCGCCTGGATTGGTGGCGTCCGGACTACTCGCTGTGGCGC'"
      ]
     },
     "execution_count": 39,
     "metadata": {},
     "output_type": "execute_result"
    }
   ],
   "source": [
    "def revc(str_in):\n",
    "    tr_dict = {'A': 'T', 'T': 'A', 'G': 'C', 'C': 'G'}\n",
    "    str_out = ''.join(tr_dict.get(nucl) for nucl in str_in)\n",
    "    return str_out[::-1]\n",
    "\n",
    "revc('AAAACCCGGT')\n",
    "revc(read_dataset_str('rosalind_revc.txt'))"
   ]
  },
  {
   "cell_type": "markdown",
   "metadata": {},
   "source": [
    "## GC: Computing GC Content"
   ]
  },
  {
   "cell_type": "code",
   "execution_count": 61,
   "metadata": {
    "collapsed": false,
    "scrolled": false
   },
   "outputs": [
    {
     "name": "stdout",
     "output_type": "stream",
     "text": [
      "Rosalind_0808\n",
      "60.91954\n",
      "Rosalind_2124\n",
      "53.125\n"
     ]
    }
   ],
   "source": [
    "def fasta_read(fastafile):\n",
    "    '''Transform fasta in txt into dictionary: name[sequence]'''\n",
    "    with open(fastafile) as inf:\n",
    "        fasta_list = [i.strip() for i in inf.readlines()]\n",
    "    records_dict = {}\n",
    "    for line in fasta_list:\n",
    "        if '>' in line:\n",
    "            new_key = line[1:]\n",
    "            records_dict[new_key] = ''\n",
    "            continue\n",
    "        else:\n",
    "            records_dict[new_key] += line[:]\n",
    "    return records_dict\n",
    "\n",
    "def gc(fastafile):\n",
    "    records_dict = fasta_read(fastafile)\n",
    "    GC_content_max = 0\n",
    "\n",
    "    for record in records_dict.keys():\n",
    "        dna = records_dict[record]\n",
    "        GC_content = ((dna.count('G')+dna.count('C'))/len(dna)*100)\n",
    "        if GC_content > GC_content_max:\n",
    "            GC_content_max = GC_content\n",
    "            record_max = record\n",
    "    print(record_max, round(GC_content_max, 6), sep='\\n')\n",
    "\n",
    "gc('input_gc.txt')\n",
    "gc('rosalind_gc.txt')"
   ]
  },
  {
   "cell_type": "markdown",
   "metadata": {
    "collapsed": true
   },
   "source": [
    "## HAMM: Counting Point Mutations"
   ]
  },
  {
   "cell_type": "code",
   "execution_count": 22,
   "metadata": {
    "collapsed": false
   },
   "outputs": [
    {
     "data": {
      "text/plain": [
       "7"
      ]
     },
     "execution_count": 22,
     "metadata": {},
     "output_type": "execute_result"
    },
    {
     "data": {
      "text/plain": [
       "413"
      ]
     },
     "execution_count": 22,
     "metadata": {},
     "output_type": "execute_result"
    }
   ],
   "source": [
    "def hamm(lst_in):\n",
    "    hamm_count = int()\n",
    "    for i in range(len(lst_in[0])):\n",
    "        if lst_in[0][i] != lst_in[1][i]:\n",
    "            hamm_count += 1\n",
    "    return hamm_count\n",
    "hamm(read_dataset_list('input.txt'))\n",
    "hamm(read_dataset_list('rosalind_hamm.txt'))"
   ]
  },
  {
   "cell_type": "markdown",
   "metadata": {},
   "source": [
    "## PROT: Translating RNA into Protein"
   ]
  },
  {
   "cell_type": "code",
   "execution_count": 27,
   "metadata": {
    "collapsed": false
   },
   "outputs": [
    {
     "data": {
      "text/plain": [
       "'MAMAPRTEINSTRING'"
      ]
     },
     "execution_count": 27,
     "metadata": {},
     "output_type": "execute_result"
    },
    {
     "data": {
      "text/plain": [
       "'MERSADLAIKGSEKDVVAVRLITPKYKESVPTCGLRRRLPILERNASGHLGLTLIHPTCNDKNITPLPYDNHHDITDSMLADNMPISSMGHWIPQSGVVTLPATPINACSRGSSRAVNSHYYVITGIVGGVCMATRIEFANGTAVLQATKQLSTLEQPHHSRRPSHESSIPSASINTLSALSKGHQSARLCVYPTINLFNQYTGTALPTPITEYVQHRLSKRLMSRIGRPPPVGGHPKSASQTYYTVPDLTFTRTSSSPSSTELALNLSSFVPCNHWFSRAGCTHVSGLSRSVVCEVGCVARNTQVRLTWCVGVSLHLGAEKRATASDFDGYGRRPSFQCGVSPNIRLVNSTADCPFPRPLLGLTVISACPGWRRLVPLPTRASDPRRNVAKLGTVARPYRYFDSGRSTCESRCGNYALYGRLACLPYEHRAVEMRLDSSLVGSLICKGFPRSCRRAIGRVSQRAHITVVEHGLRVRGPEKGKSSGIDLVIHSPNSLGRRTIAVADLGHRSIRRAQLPSYHWTTNRVGILHRFDQGLKSNEEIGFPPVRTITVHVIAEAARLHEPWSRFRRCIQLLIAVMQPVLSKSTNTVDLLASLCAKGRTYTARIGRVTISASGPPASRRHGSWLDCQLGEGVEKSSASACFAILFILASEARPAEEAITSLPSSAKSMSGGGILANGRRDQGPHPLTIRVHAKCSGLQGATDTVSDHGSYDGEWTFPNGRDVHRTYSNAKLRSTPCTSIILSSAFVEYRRVTIREPWINSRWFDEVVRGSVFVSWPLHGAIHWHVISRPKKVICHCPPCERAFPPSGLSRCRALIDEPVRSFDPSQLRASDARDFFNPVAIALFNTQHIDTGLSYPLPCKFIVILEADRLHKPLRSPPFRLPGACNLIGCTVGPGCVLGRPLTSSLHIPRGIRVSIRPSPRGVYRKKIAHCFRGVVSLQSPVPRIRGETSSSNMHENEPQYHPHYVVAAVPWRLGELEVTGFDNAYSLLTYVRALDGLSVRAYSRLVAQSNEDNRGRRKSCFNAERAVNLYPRHWVSPRLDKTMPPQWRTVSWLDARVIRSRDKYHLTEACRPTRCSNRGNICYIGDSSKVSDTDLRPLSSRVSLRGGVSYGSYVSPQELVATWSARFLPSLSTFVLWGLRHYRNIGRDVGCLVGKCCASLDTSAARGRDPLSRHGTTSPLGPSNHEHSGDSLFKCSFVNMRGCAIDRNRQTLMQPRFSRVLNLWLSVSIFNLGGALNLHCGGVNMHVVCFKHFVAAGCPVKARAVLYDAFPYTITRVAVPRASRHTLMLTEGNVPITIESSTCSYKSRTILSQGYFAPKTNCLVVRGRSLCYVTHCALEQTRLTQLYMSTREHRNRTSRIGVLENSIFWPASYLILISKASRRQSAVGGEPNWSASQVDVGTRTPDAISPKFGAPNFHSSTYEKQCVRQFDSYPMHTEDIYYFDEYGLGLPRSAHGEGDRVYGTSFVVTFGWPGQPRKLRLLVPFSLNDCPCNCAPNATRELDRQRKQEVTGMGPRSVGGRWNIARELALSTSVVNQVSIAELGTRAQHSLVAIRCRIGDIRVTIPNCLIQAPRMHFACSAKTRSACGVPRTWPVATAFITGAQNPRHYSMTGTRFTKVPYFTCLGPVQQHHSVRTLELATSPAAMAYLSLHRSWGLEGGPTGERARSAVLSTDQKDTLRLKTCCTDTDMELPTLRQLSKSQHGLSRSVAVLPIVAGHRPPPPRPLSMPNRRTAGQVVGVIDCAGTNYTPYVRRAMVSDGGMKGNGKALYTLNIARRNCHAEVLTRKSHFTIALTRTSRCPRSVDHQHEMSRYRLLIVRSKPTMVFQASASLSQYRVVRTLPNRPCGLRKVVLHYTSGHAIGGSCPGSYSSYCHHFVVAVNRRFYNSKYAYAYHELYEGYNGSTQKSRTWGWAASLPWLSKASRDLVVLPPPDRPMDRHNKLISVRKAYKKYGRLVDKTRYCRWSQIEPLVRSTFPACKIGLMGSERSSYASALNLAESDKVKRSRNNRAAVLRLNRSRLGEQPYEQVQIRHTCRCYLRSVLQLVWQKAKSSASVGVHPPLAVAAVREPLSRPCACFLHATYASLVNWSAAILSLRRAHDMPVPRYPPSQVTGALTRHGNVWCVRRYRCNRWARSRNYTANSSKEGIRQCPQGFLVPPTCLSLRTLAVFEELVLTAPAFPTIGTICASYCLVSTDGSLEQVKGQSKILIDRIYRLDSHLRRPETKSYTINLCADPLIGFSSWVPGKSVPWGTKYLSGTNPITLMARLLHLRLARWSVKTRMQLYGAQCALSPSHSPACPAFIPRHDRNGVPCRANLDVSYTVLLTIFWRVEPLRSFALSSVLYHTFPWSLRLGVRFCELNHRRGTPTVHTTRRFLLSRRGLFCPVWLEKQATEYQQPRVARRTEHLTVCPTARPSLQEGRSSGTYDKVAICEAEDHTHFGPEPRRLPSALSLSRSPRRLQCAKYRFAKKVSADDRISPIGANRAHSHLLKLYGSTFNPNLSCTGPKFYFHSRKRYEAMESDKCGTSLIDPLVGELCARIPRVFVGPYSAVRGETPLSVYSLRPSHPWVHLPMGLEEETIVFKRAAKLHYHNTLNPLPGHLPAVLRLDLYRLTQKCSQARPIGYLPELAVTIYVSGISPSRCYELNGASNNLYSFLDGEAGPWENARRSLCRVFRDGPVFRINSSYFSNSQIWRMLAP'"
      ]
     },
     "execution_count": 27,
     "metadata": {},
     "output_type": "execute_result"
    }
   ],
   "source": [
    "import re\n",
    "\n",
    "def prot(rna):\n",
    "    rna_splitted = re.findall(\"\\w{3}\", rna)\n",
    "    codon_table = {'UUU':'F', 'CUU':'L', 'AUU':'I', 'GUU':'V', 'UUC':'F', 'CUC':'L', 'AUC':'I', 'GUC':'V', 'UUA':'L', 'CUA':'L', 'AUA':'I', 'GUA':'V', 'UUG':'L', 'CUG':'L', 'AUG':'M', 'GUG':'V', 'UCU':'S', 'CCU':'P', 'ACU':'T', 'GCU':'A', 'UCC':'S', 'CCC':'P', 'ACC':'T', 'GCC':'A', 'UCA':'S', 'CCA':'P', 'ACA':'T', 'GCA':'A', 'UCG':'S', 'CCG':'P', 'ACG':'T', 'GCG':'A', 'UAU':'Y', 'CAU':'H', 'AAU':'N', 'GAU':'D', 'UAC':'Y', 'CAC':'H', 'AAC':'N', 'GAC':'D', 'UAA':'Stop', 'CAA':'Q', 'AAA':'K', 'GAA':'E', 'UAG':'Stop', 'CAG':'Q', 'AAG':'K', 'GAG':'E', 'UGU':'C', 'CGU':'R', 'AGU':'S', 'GGU':'G', 'UGC':'C', 'CGC':'R', 'AGC':'S', 'GGC':'G', 'UGA':'Stop', 'CGA':'R', 'AGA':'R', 'GGA':'G', 'UGG':'W', 'CGG':'R', 'AGG':'R', 'GGG':'G'}\n",
    "    protein = [codon_table[codon] for codon in rna_splitted]\n",
    "    del protein[-1]\n",
    "    return ''.join(protein)\n",
    "\n",
    "prot(read_dataset_str('input'))\n",
    "prot(read_dataset_str('rosalind_prot.txt'))"
   ]
  },
  {
   "cell_type": "code",
   "execution_count": 31,
   "metadata": {
    "collapsed": false
   },
   "outputs": [
    {
     "name": "stdout",
     "output_type": "stream",
     "text": [
      "['UUU', 'F', 'CUU', 'L', 'AUU', 'I', 'GUU', 'V', 'UUC', 'F', 'CUC', 'L', 'AUC', 'I', 'GUC', 'V', 'UUA', 'L', 'CUA', 'L', 'AUA', 'I', 'GUA', 'V', 'UUG', 'L', 'CUG', 'L', 'AUG', 'M', 'GUG', 'V', 'UCU', 'S', 'CCU', 'P', 'ACU', 'T', 'GCU', 'A', 'UCC', 'S', 'CCC', 'P', 'ACC', 'T', 'GCC', 'A', 'UCA', 'S', 'CCA', 'P', 'ACA', 'T', 'GCA', 'A', 'UCG', 'S', 'CCG', 'P', 'ACG', 'T', 'GCG', 'A', 'UAU', 'Y', 'CAU', 'H', 'AAU', 'N', 'GAU', 'D', 'UAC', 'Y', 'CAC', 'H', 'AAC', 'N', 'GAC', 'D', 'UAA', 'Stop', 'CAA', 'Q', 'AAA', 'K', 'GAA', 'E', 'UAG', 'Stop', 'CAG', 'Q', 'AAG', 'K', 'GAG', 'E', 'UGU', 'C', 'CGU', 'R', 'AGU', 'S', 'GGU', 'G', 'UGC', 'C', 'CGC', 'R', 'AGC', 'S', 'GGC', 'G', 'UGA', 'Stop', 'CGA', 'R', 'AGA', 'R', 'GGA', 'G', 'UGG', 'W', 'CGG', 'R', 'AGG', 'R', 'GGG', 'G']\n",
      "\n",
      "{'GUG': 'V', 'CGU': 'R', 'GGC': 'G', 'GCA': 'A', 'GUC': 'V', 'AUC': 'I', 'ACG': 'T', 'AGG': 'R', 'GGG': 'G', 'AGU': 'S', 'AGC': 'S', 'UGU': 'C', 'AAC': 'N', 'CCU': 'P', 'GGA': 'G', 'UGG': 'W', 'CAG': 'Q', 'CCA': 'P', 'UUU': 'F', 'GCU': 'A', 'GAA': 'E', 'GUA': 'V', 'UCA': 'S', 'GCC': 'A', 'AAA': 'K', 'UUG': 'L', 'UCG': 'S', 'GAU': 'D', 'UGC': 'C', 'UUC': 'F', 'UGA': 'Stop', 'CAU': 'H', 'CUU': 'L', 'UUA': 'L', 'UAC': 'Y', 'CUG': 'L', 'AGA': 'R', 'AUG': 'M', 'CGA': 'R', 'UAA': 'Stop', 'GAG': 'E', 'GGU': 'G', 'CAA': 'Q', 'GCG': 'A', 'GUU': 'V', 'ACA': 'T', 'UCU': 'S', 'AAU': 'N', 'CUC': 'L', 'CGC': 'R', 'ACU': 'T', 'AAG': 'K', 'CGG': 'R', 'UCC': 'S', 'UAG': 'Stop', 'AUA': 'I', 'AUU': 'I', 'ACC': 'T', 'CCC': 'P', 'CUA': 'L', 'CAC': 'H', 'GAC': 'D', 'CCG': 'P', 'UAU': 'Y'}\n",
      "\n",
      "MAMAPRTEINSTRING\n",
      "MAMAPRTEINSTRING\n"
     ]
    }
   ],
   "source": [
    "string = \"\"\"UUU F      CUU L      AUU I      GUU V\n",
    "UUC F      CUC L      AUC I      GUC V\n",
    "UUA L      CUA L      AUA I      GUA V\n",
    "UUG L      CUG L      AUG M      GUG V\n",
    "UCU S      CCU P      ACU T      GCU A\n",
    "UCC S      CCC P      ACC T      GCC A\n",
    "UCA S      CCA P      ACA T      GCA A\n",
    "UCG S      CCG P      ACG T      GCG A\n",
    "UAU Y      CAU H      AAU N      GAU D\n",
    "UAC Y      CAC H      AAC N      GAC D\n",
    "UAA Stop   CAA Q      AAA K      GAA E\n",
    "UAG Stop   CAG Q      AAG K      GAG E\n",
    "UGU C      CGU R      AGU S      GGU G\n",
    "UGC C      CGC R      AGC S      GGC G\n",
    "UGA Stop   CGA R      AGA R      GGA G\n",
    "UGG W      CGG R      AGG R      GGG G\"\"\"\n",
    "\n",
    "coded = \"AUGGCCAUGGCGCCCAGAACUGAGAUCAAUAGUACCCGUAUUAACGGGUGA\"\n",
    "decoded = ''\n",
    "\n",
    "traL =  string.split()\n",
    "traDict = dict(zip(traL[0::2], traL[1::2]))\n",
    "\n",
    "for i in range(0, len(coded)-3, 3):\n",
    "    decoded += traDict[coded[i:i+3]]\n",
    "\n",
    "print(traL, traDict, decoded, sep='\\n\\n')\n",
    "    \n",
    "print(decoded)"
   ]
  },
  {
   "cell_type": "markdown",
   "metadata": {},
   "source": [
    "## SUBS: Finding a Motif in DNA"
   ]
  },
  {
   "cell_type": "code",
   "execution_count": 84,
   "metadata": {
    "collapsed": false,
    "scrolled": true
   },
   "outputs": [
    {
     "name": "stdout",
     "output_type": "stream",
     "text": [
      "2 4 10\n",
      "5 28 35 45 52 69 76 103 240 262 287 488 506 525 604 663 678 702 739\n"
     ]
    }
   ],
   "source": [
    "def subs(lst_in):\n",
    "    string, sub_string = lst_in\n",
    "    res_lst = [0]\n",
    "    \n",
    "    while -1 not in res_lst:\n",
    "        res_lst.append(string.find(sub_string, res_lst[-1] + 1))\n",
    "    res_lst = [str(i + 1) for i in res_lst[1:-1]]\n",
    "    print(' '.join(res_lst))\n",
    "\n",
    "subs(['GATATATGCATATACTT', 'ATAT'])\n",
    "subs(read_dataset_list('rosalind_subs.txt'))"
   ]
  },
  {
   "cell_type": "code",
   "execution_count": null,
   "metadata": {
    "collapsed": true
   },
   "outputs": [],
   "source": []
  }
 ],
 "metadata": {
  "kernelspec": {
   "display_name": "Python 3",
   "language": "python",
   "name": "python3"
  },
  "language_info": {
   "codemirror_mode": {
    "name": "ipython",
    "version": 3
   },
   "file_extension": ".py",
   "mimetype": "text/x-python",
   "name": "python",
   "nbconvert_exporter": "python",
   "pygments_lexer": "ipython3",
   "version": "3.5.2"
  }
 },
 "nbformat": 4,
 "nbformat_minor": 0
}
