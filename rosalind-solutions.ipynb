{
 "cells": [
  {
   "cell_type": "markdown",
   "metadata": {},
   "source": [
    "# Rosalind Bioinformatics Stronghold Solutions"
   ]
  },
  {
   "cell_type": "markdown",
   "metadata": {},
   "source": [
    "## Prerequisites"
   ]
  },
  {
   "cell_type": "code",
   "execution_count": null,
   "metadata": {
    "collapsed": true
   },
   "outputs": [],
   "source": [
    "from IPython.core.interactiveshell import InteractiveShell\n",
    "InteractiveShell.ast_node_interactivity = \"all\""
   ]
  },
  {
   "cell_type": "code",
   "execution_count": 62,
   "metadata": {
    "collapsed": false
   },
   "outputs": [],
   "source": [
    "def read_dataset_str(filename):\n",
    "    '''Returns a string.'''\n",
    "    with open(filename) as inf:\n",
    "        return [i.strip() for i in inf.readlines()][0]"
   ]
  },
  {
   "cell_type": "code",
   "execution_count": 63,
   "metadata": {
    "collapsed": false
   },
   "outputs": [],
   "source": [
    "def read_dataset_list(filename):\n",
    "    '''Returns a list.'''\n",
    "    with open(filename) as inf:\n",
    "        return [i.strip() for i in inf.readlines()]"
   ]
  },
  {
   "cell_type": "markdown",
   "metadata": {},
   "source": [
    "## DNA: Counting DNA Nucleotides"
   ]
  },
  {
   "cell_type": "code",
   "execution_count": 30,
   "metadata": {
    "collapsed": false,
    "scrolled": true
   },
   "outputs": [
    {
     "name": "stdout",
     "output_type": "stream",
     "text": [
      "20 12 17 21\n",
      "246 248 231 264\n"
     ]
    }
   ],
   "source": [
    "def dna(str_in):\n",
    "    answer = [str_in.count(nucl) for nucl in ['A', 'C', 'G', 'T']]\n",
    "    print(*answer)\n",
    "\n",
    "dna('AGCTTTTCATTCTGACTGCAACGGGCAATATGTCTCTGTGTGGATTAAAAAAAGAGTGTCTGATAGCAGC')\n",
    "dna(read_dataset_str('rosalind_dna.txt'))"
   ]
  },
  {
   "cell_type": "markdown",
   "metadata": {},
   "source": [
    "## RNA: Transcribing DNA into RNA"
   ]
  },
  {
   "cell_type": "code",
   "execution_count": 31,
   "metadata": {
    "collapsed": false
   },
   "outputs": [
    {
     "data": {
      "text/plain": [
       "'GAUGGAACUUGACUACGUAAAUU'"
      ]
     },
     "execution_count": 31,
     "metadata": {},
     "output_type": "execute_result"
    },
    {
     "data": {
      "text/plain": [
       "'GGUCACCCGACGAUCCUGGGGGGUCGGAACGGCUGGGACGCAGCCCAGUCCAUAAUACCUGGACGUGGCCCGCCGCUCAUGAGCCUGCGUAACGGGCAAUUCGAACUCAUUACUCAGCUCAGACGAAAAGUAAUUAGUGGUCCGGCUUAUAGCUUGAUAACCCGUAAGUGCUCUAGCCCCCAUACCUUCAAAGGCUAGCGUAGCAAGGGCAGAGAGUCCUGGGUUCAGGCCGUCGAUUGACGAUACAUACCUGAGCGGCUUACUAAAGCUUAGGUAUGUCGGGGGGCCAGACGUAUGCCCCCGCGGAUAAGGUCGUCUUAGGGGUAUCGUCAGUAACAGUUGCAUUAUGGCCCCACGCUGGCAUCGUUUGAAGAUCCGCUUAAAGGCGAAGAAUAAUAAGUUGGGAAUUCUAUCUUCAUCCGAUCCUAUAGUUCUAACCAUGUCAUAGUUCAUAGGUAUAUAGAGUACGCUCAGUGCGGCUAACCUAAAAGUAAAGUGCGUGAUAGGACUGCAGAUGUGAUUCAAAACAGGAGUGUCGAGCACCAUAAGUAUACAAGAACUUCGUGCGGGCCGGCACUAUGCUAUCAUUUAGGACCCGUGUGCUCGAGAAAGGUCUUUGCUGGCAGCUGUGUUGCUAACUACCGUUGAUAUUAAACUGAGCUCGUAAUAUAGAAAUAAGAUGACACAUCAUUCGCAAGCACGCUGUAUGGGCUAUGGUAAAGACCUUAAUGAAAAGGCCAGUAGGCCCGAGCGCAACGCUGCAAUGCGUGGACAACGACCGGCUACCAAUUUUUCCGAAAAGUCGUACUAAGGUAAGACAAGGGCCCCAGUUCGUCCUUCAUGAGGGUAGAAAAUACCCUCGUUGCGACAGUUGCGAUCCCAGAGGAAUUAGUAAUUGACGAAGUCCCCCUAGCCCUCGCCGCCCGUG'"
      ]
     },
     "execution_count": 31,
     "metadata": {},
     "output_type": "execute_result"
    }
   ],
   "source": [
    "def rna(str_in):\n",
    "    return str_in.replace('T', 'U')\n",
    "\n",
    "rna('GATGGAACTTGACTACGTAAATT')\n",
    "rna(read_dataset_str('rosalind_rna.txt'))"
   ]
  },
  {
   "cell_type": "markdown",
   "metadata": {},
   "source": [
    "## REVC: Complementing a Strand of DNA"
   ]
  },
  {
   "cell_type": "code",
   "execution_count": 39,
   "metadata": {
    "collapsed": false
   },
   "outputs": [
    {
     "data": {
      "text/plain": [
       "'ACCGGGTTTT'"
      ]
     },
     "execution_count": 39,
     "metadata": {},
     "output_type": "execute_result"
    },
    {
     "data": {
      "text/plain": [
       "'ACAGAGACGGCGGGTGTGCGTGCCCACAGTTCGAACCCTGGACAACCGCGCAGATGGATGATTTAAGATGCCTCACCTCTTGCATGAGTTGCCTTACACCCGCACTCTATCCGGACCGATCCAACAGACTAGCCCAAAGCTGAGGGAAGACGGGCATAGCGGCACTGCATTAGAAAAACTCCCGCAACACCGGGTAGTCCGAGACCCCCACCCTTAAACATGGTCTAGCGTGGTACAAAGATAGCCCTCGTAATACAACTACCCCTGCAACGTCATCGCAACTTATCGTTGACATACTTGGATAATGCCCTTTTAAGGTTGTGAGTTGGTAATAGTGCCCGGATTGCCGTTGCGGCGGGCAAGTTCTTCCACCAATATCAGGGGTGTTCACCACCTTCGTAGAATTTGACAGATGACCGACCAACAACGCTGTAGGAATCAAGTGAAGTAAACCTGCGGTTCTGAATTTTATGCGTCCTGCCTTGATGGTGGAGTGTAAGTGGACCGTTACGGAATACTCGTACAAAACTGACCCGGGGATCACCGCTCGAACATTCGGCTGCGCATAAACCCGAGGTCCGAATGAGGCCATGGTAAGAGTTAGAGTGGTGACCCTGCGATCGGAGAGAGATAACGGCCGTATGATTGCCTGGCGTCAAGACCCAGGTCCCAGCGTTGGCTTACGATTCCTCAATATCGGTGACGGGAAAGGTGACAAGAGTACAGGTGATCCGACGTCCGGTGTTACGCATACGATCGACAAGCGAAGACTCTACAGGATGCTTTTGATTAGGTATAGGCTTAGGTCACGAGCAGACTAGCCTATGTAGGCCAGCAAATAAATGTCAAGGAAGTTCAGCTCAACGATAAATAGCACGATAATTTGTGGTTCGGTGTACACAAATCATGTCGCCTGGATTGGTGGCGTCCGGACTACTCGCTGTGGCGC'"
      ]
     },
     "execution_count": 39,
     "metadata": {},
     "output_type": "execute_result"
    }
   ],
   "source": [
    "def revc(str_in):\n",
    "    tr_dict = {'A': 'T', 'T': 'A', 'G': 'C', 'C': 'G'}\n",
    "    str_out = ''.join(tr_dict.get(nucl) for nucl in str_in)\n",
    "    return str_out[::-1]\n",
    "\n",
    "revc('AAAACCCGGT')\n",
    "revc(read_dataset_str('rosalind_revc.txt'))"
   ]
  },
  {
   "cell_type": "markdown",
   "metadata": {},
   "source": [
    "## GC: Computing GC Content"
   ]
  },
  {
   "cell_type": "code",
   "execution_count": 61,
   "metadata": {
    "collapsed": false,
    "scrolled": false
   },
   "outputs": [
    {
     "name": "stdout",
     "output_type": "stream",
     "text": [
      "Rosalind_0808\n",
      "60.91954\n",
      "Rosalind_2124\n",
      "53.125\n"
     ]
    }
   ],
   "source": [
    "def fasta_read(fastafile):\n",
    "    '''Transform fasta in txt into dictionary: name[sequence]'''\n",
    "    with open(fastafile) as inf:\n",
    "        fasta_list = [i.strip() for i in inf.readlines()]\n",
    "    records_dict = {}\n",
    "    for line in fasta_list:\n",
    "        if '>' in line:\n",
    "            new_key = line[1:]\n",
    "            records_dict[new_key] = ''\n",
    "            continue\n",
    "        else:\n",
    "            records_dict[new_key] += line[:]\n",
    "    return records_dict\n",
    "\n",
    "def gc(fastafile):\n",
    "    records_dict = fasta_read(fastafile)\n",
    "    GC_content_max = 0\n",
    "\n",
    "    for record in records_dict.keys():\n",
    "        dna = records_dict[record]\n",
    "        GC_content = ((dna.count('G')+dna.count('C'))/len(dna)*100)\n",
    "        if GC_content > GC_content_max:\n",
    "            GC_content_max = GC_content\n",
    "            record_max = record\n",
    "    print(record_max, round(GC_content_max, 6), sep='\\n')\n",
    "\n",
    "gc('input_gc.txt')\n",
    "gc('rosalind_gc.txt')"
   ]
  },
  {
   "cell_type": "markdown",
   "metadata": {},
   "source": [
    "## SUBS: Finding a Motif in DNA"
   ]
  },
  {
   "cell_type": "code",
   "execution_count": 84,
   "metadata": {
    "collapsed": false,
    "scrolled": true
   },
   "outputs": [
    {
     "name": "stdout",
     "output_type": "stream",
     "text": [
      "2 4 10\n",
      "5 28 35 45 52 69 76 103 240 262 287 488 506 525 604 663 678 702 739\n"
     ]
    }
   ],
   "source": [
    "def subs(lst_in):\n",
    "    string, sub_string = lst_in\n",
    "    res_lst = [0]\n",
    "    \n",
    "    while -1 not in res_lst:\n",
    "        res_lst.append(string.find(sub_string, res_lst[-1] + 1))\n",
    "    res_lst = [str(i + 1) for i in res_lst[1:-1]]\n",
    "    print(' '.join(res_lst))\n",
    "\n",
    "subs(['GATATATGCATATACTT', 'ATAT'])\n",
    "subs(read_dataset_list('rosalind_subs.txt'))"
   ]
  },
  {
   "cell_type": "code",
   "execution_count": null,
   "metadata": {
    "collapsed": true
   },
   "outputs": [],
   "source": []
  }
 ],
 "metadata": {
  "kernelspec": {
   "display_name": "Python 3",
   "language": "python",
   "name": "python3"
  },
  "language_info": {
   "codemirror_mode": {
    "name": "ipython",
    "version": 3
   },
   "file_extension": ".py",
   "mimetype": "text/x-python",
   "name": "python",
   "nbconvert_exporter": "python",
   "pygments_lexer": "ipython3",
   "version": "3.5.2"
  }
 },
 "nbformat": 4,
 "nbformat_minor": 0
}
