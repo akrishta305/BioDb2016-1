{
 "cells": [
  {
   "cell_type": "markdown",
   "metadata": {},
   "source": [
    "# Rosalind Bioinformatics Stronghold Solutions"
   ]
  },
  {
   "cell_type": "markdown",
   "metadata": {},
   "source": [
    "## Prerequisites"
   ]
  },
  {
   "cell_type": "code",
   "execution_count": 4,
   "metadata": {
    "collapsed": true
   },
   "outputs": [],
   "source": [
    "from IPython.core.interactiveshell import InteractiveShell\n",
    "InteractiveShell.ast_node_interactivity = \"all\""
   ]
  },
  {
   "cell_type": "code",
   "execution_count": null,
   "metadata": {
    "collapsed": true
   },
   "outputs": [],
   "source": [
    "def read_dataset_str(task_shortcut):\n",
    "    '''Returns a string.'''\n",
    "    filename = 'rosalind_{}.txt'.format(task_shortcut)\n",
    "    with open(filename) as inf:\n",
    "        return [i.strip() for i in inf.readlines()][0]"
   ]
  },
  {
   "cell_type": "code",
   "execution_count": 34,
   "metadata": {
    "collapsed": false
   },
   "outputs": [],
   "source": [
    "def read_dataset_list(task_shortcut):\n",
    "    '''Returns a list.'''\n",
    "    filename = 'rosalind_{}.txt'.format(task_shortcut)\n",
    "    with open(filename) as inf:\n",
    "        return [i.strip() for i in inf.readlines()]"
   ]
  },
  {
   "cell_type": "markdown",
   "metadata": {},
   "source": [
    "## Bioinformatics Stronghold"
   ]
  },
  {
   "cell_type": "markdown",
   "metadata": {},
   "source": [
    "### DNA: Counting DNA Nucleotides"
   ]
  },
  {
   "cell_type": "code",
   "execution_count": 30,
   "metadata": {
    "collapsed": false,
    "scrolled": true
   },
   "outputs": [
    {
     "name": "stdout",
     "output_type": "stream",
     "text": [
      "20 12 17 21\n",
      "246 248 231 264\n"
     ]
    }
   ],
   "source": [
    "def dna(str_in):\n",
    "    answer = [str_in.count(nucl) for nucl in ['A', 'C', 'G', 'T']]\n",
    "    print(*answer)\n",
    "\n",
    "dna('AGCTTTTCATTCTGACTGCAACGGGCAATATGTCTCTGTGTGGATTAAAAAAAGAGTGTCTGATAGCAGC')\n",
    "dna(read_dataset_str('rosalind_dna.txt'))"
   ]
  },
  {
   "cell_type": "markdown",
   "metadata": {},
   "source": [
    "### RNA: Transcribing DNA into RNA"
   ]
  },
  {
   "cell_type": "code",
   "execution_count": 31,
   "metadata": {
    "collapsed": false
   },
   "outputs": [
    {
     "data": {
      "text/plain": [
       "'GAUGGAACUUGACUACGUAAAUU'"
      ]
     },
     "execution_count": 31,
     "metadata": {},
     "output_type": "execute_result"
    },
    {
     "data": {
      "text/plain": [
       "'GGUCACCCGACGAUCCUGGGGGGUCGGAACGGCUGGGACGCAGCCCAGUCCAUAAUACCUGGACGUGGCCCGCCGCUCAUGAGCCUGCGUAACGGGCAAUUCGAACUCAUUACUCAGCUCAGACGAAAAGUAAUUAGUGGUCCGGCUUAUAGCUUGAUAACCCGUAAGUGCUCUAGCCCCCAUACCUUCAAAGGCUAGCGUAGCAAGGGCAGAGAGUCCUGGGUUCAGGCCGUCGAUUGACGAUACAUACCUGAGCGGCUUACUAAAGCUUAGGUAUGUCGGGGGGCCAGACGUAUGCCCCCGCGGAUAAGGUCGUCUUAGGGGUAUCGUCAGUAACAGUUGCAUUAUGGCCCCACGCUGGCAUCGUUUGAAGAUCCGCUUAAAGGCGAAGAAUAAUAAGUUGGGAAUUCUAUCUUCAUCCGAUCCUAUAGUUCUAACCAUGUCAUAGUUCAUAGGUAUAUAGAGUACGCUCAGUGCGGCUAACCUAAAAGUAAAGUGCGUGAUAGGACUGCAGAUGUGAUUCAAAACAGGAGUGUCGAGCACCAUAAGUAUACAAGAACUUCGUGCGGGCCGGCACUAUGCUAUCAUUUAGGACCCGUGUGCUCGAGAAAGGUCUUUGCUGGCAGCUGUGUUGCUAACUACCGUUGAUAUUAAACUGAGCUCGUAAUAUAGAAAUAAGAUGACACAUCAUUCGCAAGCACGCUGUAUGGGCUAUGGUAAAGACCUUAAUGAAAAGGCCAGUAGGCCCGAGCGCAACGCUGCAAUGCGUGGACAACGACCGGCUACCAAUUUUUCCGAAAAGUCGUACUAAGGUAAGACAAGGGCCCCAGUUCGUCCUUCAUGAGGGUAGAAAAUACCCUCGUUGCGACAGUUGCGAUCCCAGAGGAAUUAGUAAUUGACGAAGUCCCCCUAGCCCUCGCCGCCCGUG'"
      ]
     },
     "execution_count": 31,
     "metadata": {},
     "output_type": "execute_result"
    }
   ],
   "source": [
    "def rna(str_in):\n",
    "    return str_in.replace('T', 'U')\n",
    "\n",
    "rna('GATGGAACTTGACTACGTAAATT')\n",
    "rna(read_dataset_str('rosalind_rna.txt'))"
   ]
  },
  {
   "cell_type": "markdown",
   "metadata": {},
   "source": [
    "### REVC: Complementing a Strand of DNA"
   ]
  },
  {
   "cell_type": "code",
   "execution_count": 39,
   "metadata": {
    "collapsed": false
   },
   "outputs": [
    {
     "data": {
      "text/plain": [
       "'ACCGGGTTTT'"
      ]
     },
     "execution_count": 39,
     "metadata": {},
     "output_type": "execute_result"
    },
    {
     "data": {
      "text/plain": [
       "'ACAGAGACGGCGGGTGTGCGTGCCCACAGTTCGAACCCTGGACAACCGCGCAGATGGATGATTTAAGATGCCTCACCTCTTGCATGAGTTGCCTTACACCCGCACTCTATCCGGACCGATCCAACAGACTAGCCCAAAGCTGAGGGAAGACGGGCATAGCGGCACTGCATTAGAAAAACTCCCGCAACACCGGGTAGTCCGAGACCCCCACCCTTAAACATGGTCTAGCGTGGTACAAAGATAGCCCTCGTAATACAACTACCCCTGCAACGTCATCGCAACTTATCGTTGACATACTTGGATAATGCCCTTTTAAGGTTGTGAGTTGGTAATAGTGCCCGGATTGCCGTTGCGGCGGGCAAGTTCTTCCACCAATATCAGGGGTGTTCACCACCTTCGTAGAATTTGACAGATGACCGACCAACAACGCTGTAGGAATCAAGTGAAGTAAACCTGCGGTTCTGAATTTTATGCGTCCTGCCTTGATGGTGGAGTGTAAGTGGACCGTTACGGAATACTCGTACAAAACTGACCCGGGGATCACCGCTCGAACATTCGGCTGCGCATAAACCCGAGGTCCGAATGAGGCCATGGTAAGAGTTAGAGTGGTGACCCTGCGATCGGAGAGAGATAACGGCCGTATGATTGCCTGGCGTCAAGACCCAGGTCCCAGCGTTGGCTTACGATTCCTCAATATCGGTGACGGGAAAGGTGACAAGAGTACAGGTGATCCGACGTCCGGTGTTACGCATACGATCGACAAGCGAAGACTCTACAGGATGCTTTTGATTAGGTATAGGCTTAGGTCACGAGCAGACTAGCCTATGTAGGCCAGCAAATAAATGTCAAGGAAGTTCAGCTCAACGATAAATAGCACGATAATTTGTGGTTCGGTGTACACAAATCATGTCGCCTGGATTGGTGGCGTCCGGACTACTCGCTGTGGCGC'"
      ]
     },
     "execution_count": 39,
     "metadata": {},
     "output_type": "execute_result"
    }
   ],
   "source": [
    "def revc(str_in):\n",
    "    tr_dict = {'A': 'T', 'T': 'A', 'G': 'C', 'C': 'G'}\n",
    "    str_out = ''.join(tr_dict.get(nucl) for nucl in str_in)\n",
    "    return str_out[::-1]\n",
    "\n",
    "revc('AAAACCCGGT')\n",
    "revc(read_dataset_str('rosalind_revc.txt'))"
   ]
  },
  {
   "cell_type": "markdown",
   "metadata": {},
   "source": [
    "### GC: Computing GC Content"
   ]
  },
  {
   "cell_type": "code",
   "execution_count": 61,
   "metadata": {
    "collapsed": false,
    "scrolled": false
   },
   "outputs": [
    {
     "name": "stdout",
     "output_type": "stream",
     "text": [
      "Rosalind_0808\n",
      "60.91954\n",
      "Rosalind_2124\n",
      "53.125\n"
     ]
    }
   ],
   "source": [
    "def fasta_read(fastafile):\n",
    "    '''Transform fasta in txt into dictionary: name[sequence]'''\n",
    "    with open(fastafile) as inf:\n",
    "        fasta_list = [i.strip() for i in inf.readlines()]\n",
    "    records_dict = {}\n",
    "    for line in fasta_list:\n",
    "        if '>' in line:\n",
    "            new_key = line[1:]\n",
    "            records_dict[new_key] = ''\n",
    "            continue\n",
    "        else:\n",
    "            records_dict[new_key] += line[:]\n",
    "    return records_dict\n",
    "\n",
    "def gc(fastafile):\n",
    "    records_dict = fasta_read(fastafile)\n",
    "    GC_content_max = 0\n",
    "\n",
    "    for record in records_dict.keys():\n",
    "        dna = records_dict[record]\n",
    "        GC_content = ((dna.count('G')+dna.count('C'))/len(dna)*100)\n",
    "        if GC_content > GC_content_max:\n",
    "            GC_content_max = GC_content\n",
    "            record_max = record\n",
    "    print(record_max, round(GC_content_max, 6), sep='\\n')\n",
    "\n",
    "gc('input_gc.txt')\n",
    "gc('rosalind_gc.txt')"
   ]
  },
  {
   "cell_type": "markdown",
   "metadata": {
    "collapsed": true
   },
   "source": [
    "### HAMM: Counting Point Mutations"
   ]
  },
  {
   "cell_type": "code",
   "execution_count": 22,
   "metadata": {
    "collapsed": false
   },
   "outputs": [
    {
     "data": {
      "text/plain": [
       "7"
      ]
     },
     "execution_count": 22,
     "metadata": {},
     "output_type": "execute_result"
    },
    {
     "data": {
      "text/plain": [
       "413"
      ]
     },
     "execution_count": 22,
     "metadata": {},
     "output_type": "execute_result"
    }
   ],
   "source": [
    "def hamm(lst_in):\n",
    "    hamm_count = int()\n",
    "    for i in range(len(lst_in[0])):\n",
    "        if lst_in[0][i] != lst_in[1][i]:\n",
    "            hamm_count += 1\n",
    "    return hamm_count\n",
    "hamm(read_dataset_list('input.txt'))\n",
    "hamm(read_dataset_list('rosalind_hamm.txt'))"
   ]
  },
  {
   "cell_type": "markdown",
   "metadata": {},
   "source": [
    "### PROT: Translating RNA into Protein"
   ]
  },
  {
   "cell_type": "code",
   "execution_count": 27,
   "metadata": {
    "collapsed": false
   },
   "outputs": [
    {
     "data": {
      "text/plain": [
       "'MAMAPRTEINSTRING'"
      ]
     },
     "execution_count": 27,
     "metadata": {},
     "output_type": "execute_result"
    },
    {
     "data": {
      "text/plain": [
       "'MERSADLAIKGSEKDVVAVRLITPKYKESVPTCGLRRRLPILERNASGHLGLTLIHPTCNDKNITPLPYDNHHDITDSMLADNMPISSMGHWIPQSGVVTLPATPINACSRGSSRAVNSHYYVITGIVGGVCMATRIEFANGTAVLQATKQLSTLEQPHHSRRPSHESSIPSASINTLSALSKGHQSARLCVYPTINLFNQYTGTALPTPITEYVQHRLSKRLMSRIGRPPPVGGHPKSASQTYYTVPDLTFTRTSSSPSSTELALNLSSFVPCNHWFSRAGCTHVSGLSRSVVCEVGCVARNTQVRLTWCVGVSLHLGAEKRATASDFDGYGRRPSFQCGVSPNIRLVNSTADCPFPRPLLGLTVISACPGWRRLVPLPTRASDPRRNVAKLGTVARPYRYFDSGRSTCESRCGNYALYGRLACLPYEHRAVEMRLDSSLVGSLICKGFPRSCRRAIGRVSQRAHITVVEHGLRVRGPEKGKSSGIDLVIHSPNSLGRRTIAVADLGHRSIRRAQLPSYHWTTNRVGILHRFDQGLKSNEEIGFPPVRTITVHVIAEAARLHEPWSRFRRCIQLLIAVMQPVLSKSTNTVDLLASLCAKGRTYTARIGRVTISASGPPASRRHGSWLDCQLGEGVEKSSASACFAILFILASEARPAEEAITSLPSSAKSMSGGGILANGRRDQGPHPLTIRVHAKCSGLQGATDTVSDHGSYDGEWTFPNGRDVHRTYSNAKLRSTPCTSIILSSAFVEYRRVTIREPWINSRWFDEVVRGSVFVSWPLHGAIHWHVISRPKKVICHCPPCERAFPPSGLSRCRALIDEPVRSFDPSQLRASDARDFFNPVAIALFNTQHIDTGLSYPLPCKFIVILEADRLHKPLRSPPFRLPGACNLIGCTVGPGCVLGRPLTSSLHIPRGIRVSIRPSPRGVYRKKIAHCFRGVVSLQSPVPRIRGETSSSNMHENEPQYHPHYVVAAVPWRLGELEVTGFDNAYSLLTYVRALDGLSVRAYSRLVAQSNEDNRGRRKSCFNAERAVNLYPRHWVSPRLDKTMPPQWRTVSWLDARVIRSRDKYHLTEACRPTRCSNRGNICYIGDSSKVSDTDLRPLSSRVSLRGGVSYGSYVSPQELVATWSARFLPSLSTFVLWGLRHYRNIGRDVGCLVGKCCASLDTSAARGRDPLSRHGTTSPLGPSNHEHSGDSLFKCSFVNMRGCAIDRNRQTLMQPRFSRVLNLWLSVSIFNLGGALNLHCGGVNMHVVCFKHFVAAGCPVKARAVLYDAFPYTITRVAVPRASRHTLMLTEGNVPITIESSTCSYKSRTILSQGYFAPKTNCLVVRGRSLCYVTHCALEQTRLTQLYMSTREHRNRTSRIGVLENSIFWPASYLILISKASRRQSAVGGEPNWSASQVDVGTRTPDAISPKFGAPNFHSSTYEKQCVRQFDSYPMHTEDIYYFDEYGLGLPRSAHGEGDRVYGTSFVVTFGWPGQPRKLRLLVPFSLNDCPCNCAPNATRELDRQRKQEVTGMGPRSVGGRWNIARELALSTSVVNQVSIAELGTRAQHSLVAIRCRIGDIRVTIPNCLIQAPRMHFACSAKTRSACGVPRTWPVATAFITGAQNPRHYSMTGTRFTKVPYFTCLGPVQQHHSVRTLELATSPAAMAYLSLHRSWGLEGGPTGERARSAVLSTDQKDTLRLKTCCTDTDMELPTLRQLSKSQHGLSRSVAVLPIVAGHRPPPPRPLSMPNRRTAGQVVGVIDCAGTNYTPYVRRAMVSDGGMKGNGKALYTLNIARRNCHAEVLTRKSHFTIALTRTSRCPRSVDHQHEMSRYRLLIVRSKPTMVFQASASLSQYRVVRTLPNRPCGLRKVVLHYTSGHAIGGSCPGSYSSYCHHFVVAVNRRFYNSKYAYAYHELYEGYNGSTQKSRTWGWAASLPWLSKASRDLVVLPPPDRPMDRHNKLISVRKAYKKYGRLVDKTRYCRWSQIEPLVRSTFPACKIGLMGSERSSYASALNLAESDKVKRSRNNRAAVLRLNRSRLGEQPYEQVQIRHTCRCYLRSVLQLVWQKAKSSASVGVHPPLAVAAVREPLSRPCACFLHATYASLVNWSAAILSLRRAHDMPVPRYPPSQVTGALTRHGNVWCVRRYRCNRWARSRNYTANSSKEGIRQCPQGFLVPPTCLSLRTLAVFEELVLTAPAFPTIGTICASYCLVSTDGSLEQVKGQSKILIDRIYRLDSHLRRPETKSYTINLCADPLIGFSSWVPGKSVPWGTKYLSGTNPITLMARLLHLRLARWSVKTRMQLYGAQCALSPSHSPACPAFIPRHDRNGVPCRANLDVSYTVLLTIFWRVEPLRSFALSSVLYHTFPWSLRLGVRFCELNHRRGTPTVHTTRRFLLSRRGLFCPVWLEKQATEYQQPRVARRTEHLTVCPTARPSLQEGRSSGTYDKVAICEAEDHTHFGPEPRRLPSALSLSRSPRRLQCAKYRFAKKVSADDRISPIGANRAHSHLLKLYGSTFNPNLSCTGPKFYFHSRKRYEAMESDKCGTSLIDPLVGELCARIPRVFVGPYSAVRGETPLSVYSLRPSHPWVHLPMGLEEETIVFKRAAKLHYHNTLNPLPGHLPAVLRLDLYRLTQKCSQARPIGYLPELAVTIYVSGISPSRCYELNGASNNLYSFLDGEAGPWENARRSLCRVFRDGPVFRINSSYFSNSQIWRMLAP'"
      ]
     },
     "execution_count": 27,
     "metadata": {},
     "output_type": "execute_result"
    }
   ],
   "source": [
    "import re\n",
    "\n",
    "def prot(rna):\n",
    "    rna_splitted = re.findall(\"\\w{3}\", rna)\n",
    "    codon_table = {'UUU':'F', 'CUU':'L', 'AUU':'I', 'GUU':'V', 'UUC':'F', 'CUC':'L', 'AUC':'I', 'GUC':'V', 'UUA':'L', 'CUA':'L', 'AUA':'I', 'GUA':'V', 'UUG':'L', 'CUG':'L', 'AUG':'M', 'GUG':'V', 'UCU':'S', 'CCU':'P', 'ACU':'T', 'GCU':'A', 'UCC':'S', 'CCC':'P', 'ACC':'T', 'GCC':'A', 'UCA':'S', 'CCA':'P', 'ACA':'T', 'GCA':'A', 'UCG':'S', 'CCG':'P', 'ACG':'T', 'GCG':'A', 'UAU':'Y', 'CAU':'H', 'AAU':'N', 'GAU':'D', 'UAC':'Y', 'CAC':'H', 'AAC':'N', 'GAC':'D', 'UAA':'Stop', 'CAA':'Q', 'AAA':'K', 'GAA':'E', 'UAG':'Stop', 'CAG':'Q', 'AAG':'K', 'GAG':'E', 'UGU':'C', 'CGU':'R', 'AGU':'S', 'GGU':'G', 'UGC':'C', 'CGC':'R', 'AGC':'S', 'GGC':'G', 'UGA':'Stop', 'CGA':'R', 'AGA':'R', 'GGA':'G', 'UGG':'W', 'CGG':'R', 'AGG':'R', 'GGG':'G'}\n",
    "    protein = [codon_table[codon] for codon in rna_splitted]\n",
    "    del protein[-1]\n",
    "    return ''.join(protein)\n",
    "\n",
    "prot(read_dataset_str('input'))\n",
    "prot(read_dataset_str('rosalind_prot.txt'))"
   ]
  },
  {
   "cell_type": "code",
   "execution_count": 35,
   "metadata": {
    "collapsed": false,
    "scrolled": false
   },
   "outputs": [
    {
     "name": "stdout",
     "output_type": "stream",
     "text": [
      "MAMAPRTEINSTRING\n"
     ]
    }
   ],
   "source": [
    "string = \"\"\"UUU F      CUU L      AUU I      GUU V\n",
    "UUC F      CUC L      AUC I      GUC V\n",
    "UUA L      CUA L      AUA I      GUA V\n",
    "UUG L      CUG L      AUG M      GUG V\n",
    "UCU S      CCU P      ACU T      GCU A\n",
    "UCC S      CCC P      ACC T      GCC A\n",
    "UCA S      CCA P      ACA T      GCA A\n",
    "UCG S      CCG P      ACG T      GCG A\n",
    "UAU Y      CAU H      AAU N      GAU D\n",
    "UAC Y      CAC H      AAC N      GAC D\n",
    "UAA Stop   CAA Q      AAA K      GAA E\n",
    "UAG Stop   CAG Q      AAG K      GAG E\n",
    "UGU C      CGU R      AGU S      GGU G\n",
    "UGC C      CGC R      AGC S      GGC G\n",
    "UGA Stop   CGA R      AGA R      GGA G\n",
    "UGG W      CGG R      AGG R      GGG G\"\"\"\n",
    "\n",
    "coded = \"AUGGCCAUGGCGCCCAGAACUGAGAUCAAUAGUACCCGUAUUAACGGGUGA\"\n",
    "decoded = ''\n",
    "\n",
    "traL =  string.split()\n",
    "traDict = dict(zip(traL[0::2], traL[1::2]))\n",
    "\n",
    "for i in range(0, len(coded)-3, 3):\n",
    "    decoded += traDict[coded[i:i+3]]\n",
    "print(decoded)"
   ]
  },
  {
   "cell_type": "markdown",
   "metadata": {},
   "source": [
    "### SUBS: Finding a Motif in DNA"
   ]
  },
  {
   "cell_type": "code",
   "execution_count": 84,
   "metadata": {
    "collapsed": false,
    "scrolled": true
   },
   "outputs": [
    {
     "name": "stdout",
     "output_type": "stream",
     "text": [
      "2 4 10\n",
      "5 28 35 45 52 69 76 103 240 262 287 488 506 525 604 663 678 702 739\n"
     ]
    }
   ],
   "source": [
    "def subs(lst_in):\n",
    "    string, sub_string = lst_in\n",
    "    res_lst = [0]\n",
    "    \n",
    "    while -1 not in res_lst:\n",
    "        res_lst.append(string.find(sub_string, res_lst[-1] + 1))\n",
    "    res_lst = [str(i + 1) for i in res_lst[1:-1]]\n",
    "    print(' '.join(res_lst))\n",
    "\n",
    "subs(['GATATATGCATATACTT', 'ATAT'])\n",
    "subs(read_dataset_list('rosalind_subs.txt'))"
   ]
  },
  {
   "cell_type": "markdown",
   "metadata": {},
   "source": [
    "### FIB: Rabbits and Recurrence Relations"
   ]
  },
  {
   "cell_type": "code",
   "execution_count": 11,
   "metadata": {
    "collapsed": false
   },
   "outputs": [
    {
     "data": {
      "text/plain": [
       "19"
      ]
     },
     "execution_count": 11,
     "metadata": {},
     "output_type": "execute_result"
    },
    {
     "data": {
      "text/plain": [
       "715827883"
      ]
     },
     "execution_count": 11,
     "metadata": {},
     "output_type": "execute_result"
    }
   ],
   "source": [
    "def fib(n, k):\n",
    "    lst_fib = [0,1]\n",
    "    for _ in range(n-1):\n",
    "        lst_fib.append(lst_fib[-1] + k * lst_fib[-2])\n",
    "    return lst_fib[-1]\n",
    "\n",
    "fib(5, 3)\n",
    "fib(31, 2)"
   ]
  },
  {
   "cell_type": "markdown",
   "metadata": {},
   "source": [
    "### IPRB: Mendel's First Law"
   ]
  },
  {
   "cell_type": "code",
   "execution_count": 62,
   "metadata": {
    "collapsed": false
   },
   "outputs": [
    {
     "data": {
      "text/plain": [
       "0.78333333333333333"
      ]
     },
     "execution_count": 62,
     "metadata": {},
     "output_type": "execute_result"
    },
    {
     "data": {
      "text/plain": [
       "0.78110859728506787"
      ]
     },
     "execution_count": 62,
     "metadata": {},
     "output_type": "execute_result"
    }
   ],
   "source": [
    "from scipy.misc import comb\n",
    "\n",
    "def iprb(k, m, n):\n",
    "    '''k individuals are homozygous dominant for a factor,\n",
    "    m are heterozygous, and n are homozygous recessive.'''\n",
    "    summa = k + m + n\n",
    "    total_comb = 4 * comb(summa, 2)\n",
    "    total_comb_rec = 4 * comb(n, 2) + 2 * n * m + comb(m, 2)\n",
    "    return 1 - total_comb_rec/total_comb\n",
    "\n",
    "iprb(2,2,2)\n",
    "iprb(18, 19, 15)"
   ]
  },
  {
   "cell_type": "markdown",
   "metadata": {},
   "source": [
    "## Bioinformatics Armory"
   ]
  },
  {
   "cell_type": "markdown",
   "metadata": {},
   "source": [
    "### INI: Introduction to the Bioinformatics Armory"
   ]
  },
  {
   "cell_type": "code",
   "execution_count": 14,
   "metadata": {
    "collapsed": false
   },
   "outputs": [
    {
     "name": "stdout",
     "output_type": "stream",
     "text": [
      "20 12 17 21\n",
      "203 218 200 193\n"
     ]
    }
   ],
   "source": [
    "from Bio.Seq import Seq\n",
    "\n",
    "def ini(sequence):\n",
    "    my_seq = Seq(sequence)\n",
    "    nucl_counts = [my_seq.count(i) for i in ['A', 'C', 'G', 'T']]\n",
    "    print(*nucl_counts)\n",
    "\n",
    "ini('AGCTTTTCATTCTGACTGCAACGGGCAATATGTCTCTGTGTGGATTAAAAAAAGAGTGTCTGATAGCAGC')\n",
    "ini(read_dataset_str('rosalind_ini.txt'))"
   ]
  },
  {
   "cell_type": "markdown",
   "metadata": {},
   "source": [
    "### DBPR: Introduction to Protein Databases\t"
   ]
  },
  {
   "cell_type": "code",
   "execution_count": 44,
   "metadata": {
    "collapsed": false,
    "scrolled": false
   },
   "outputs": [
    {
     "name": "stdout",
     "output_type": "stream",
     "text": [
      "DNA recombination\n",
      "DNA repair\n",
      "DNA replication\n",
      "'de novo' pyrimidine nucleobase biosynthetic process\n",
      "'de novo' UMP biosynthetic process\n"
     ]
    }
   ],
   "source": [
    "from Bio import ExPASy\n",
    "from Bio import SwissProt\n",
    "\n",
    "def dbpr(up_id):\n",
    "    handle = ExPASy.get_sprot_raw(up_id)\n",
    "    record = SwissProt.read(handle)\n",
    "    go_functions = [i[2][2:] for i in record.cross_references if i[0] == 'GO' and i[2][0] == 'P']\n",
    "    for i in go_functions:\n",
    "        print(i)\n",
    "\n",
    "dbpr('Q5SLP9')\n",
    "dbpr(read_dataset_str('dbpr'))"
   ]
  },
  {
   "cell_type": "code",
   "execution_count": null,
   "metadata": {
    "collapsed": true
   },
   "outputs": [],
   "source": []
  }
 ],
 "metadata": {
  "kernelspec": {
   "display_name": "Python 3",
   "language": "python",
   "name": "python3"
  },
  "language_info": {
   "codemirror_mode": {
    "name": "ipython",
    "version": 3
   },
   "file_extension": ".py",
   "mimetype": "text/x-python",
   "name": "python",
   "nbconvert_exporter": "python",
   "pygments_lexer": "ipython3",
   "version": "3.5.2"
  }
 },
 "nbformat": 4,
 "nbformat_minor": 0
}
