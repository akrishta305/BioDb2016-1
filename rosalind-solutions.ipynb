{
 "cells": [
  {
   "cell_type": "markdown",
   "metadata": {},
   "source": [
    "# Rosalind Solutions"
   ]
  },
  {
   "cell_type": "markdown",
   "metadata": {},
   "source": [
    "## Prerequisites"
   ]
  },
  {
   "cell_type": "code",
   "execution_count": 18,
   "metadata": {
    "collapsed": true
   },
   "outputs": [],
   "source": [
    "from IPython.core.interactiveshell import InteractiveShell\n",
    "InteractiveShell.ast_node_interactivity = \"all\"\n",
    "\n",
    "def read_dataset_str(task_shortcut):\n",
    "    '''Returns a string.'''\n",
    "    filename = 'rosalind_{}.txt'.format(task_shortcut)\n",
    "    with open(filename) as inf:\n",
    "        return [i.strip() for i in inf.readlines()][0]\n",
    "\n",
    "def read_dataset_list(task_shortcut):\n",
    "    '''Returns a list.'''\n",
    "    filename = 'rosalind_{}.txt'.format(task_shortcut)\n",
    "    with open(filename) as inf:\n",
    "        return [i.strip() for i in inf.readlines()]"
   ]
  },
  {
   "cell_type": "markdown",
   "metadata": {},
   "source": [
    "## Bioinformatics Stronghold"
   ]
  },
  {
   "cell_type": "markdown",
   "metadata": {},
   "source": [
    "### DNA: Counting DNA Nucleotides"
   ]
  },
  {
   "cell_type": "code",
   "execution_count": 30,
   "metadata": {
    "collapsed": false,
    "scrolled": true
   },
   "outputs": [
    {
     "name": "stdout",
     "output_type": "stream",
     "text": [
      "20 12 17 21\n",
      "246 248 231 264\n"
     ]
    }
   ],
   "source": [
    "def dna(str_in):\n",
    "    answer = [str_in.count(nucl) for nucl in ['A', 'C', 'G', 'T']]\n",
    "    print(*answer)\n",
    "\n",
    "dna('AGCTTTTCATTCTGACTGCAACGGGCAATATGTCTCTGTGTGGATTAAAAAAAGAGTGTCTGATAGCAGC')\n",
    "dna(read_dataset_str('rosalind_dna.txt'))"
   ]
  },
  {
   "cell_type": "markdown",
   "metadata": {},
   "source": [
    "### RNA: Transcribing DNA into RNA"
   ]
  },
  {
   "cell_type": "code",
   "execution_count": 31,
   "metadata": {
    "collapsed": false
   },
   "outputs": [
    {
     "data": {
      "text/plain": [
       "'GAUGGAACUUGACUACGUAAAUU'"
      ]
     },
     "execution_count": 31,
     "metadata": {},
     "output_type": "execute_result"
    },
    {
     "data": {
      "text/plain": [
       "'GGUCACCCGACGAUCCUGGGGGGUCGGAACGGCUGGGACGCAGCCCAGUCCAUAAUACCUGGACGUGGCCCGCCGCUCAUGAGCCUGCGUAACGGGCAAUUCGAACUCAUUACUCAGCUCAGACGAAAAGUAAUUAGUGGUCCGGCUUAUAGCUUGAUAACCCGUAAGUGCUCUAGCCCCCAUACCUUCAAAGGCUAGCGUAGCAAGGGCAGAGAGUCCUGGGUUCAGGCCGUCGAUUGACGAUACAUACCUGAGCGGCUUACUAAAGCUUAGGUAUGUCGGGGGGCCAGACGUAUGCCCCCGCGGAUAAGGUCGUCUUAGGGGUAUCGUCAGUAACAGUUGCAUUAUGGCCCCACGCUGGCAUCGUUUGAAGAUCCGCUUAAAGGCGAAGAAUAAUAAGUUGGGAAUUCUAUCUUCAUCCGAUCCUAUAGUUCUAACCAUGUCAUAGUUCAUAGGUAUAUAGAGUACGCUCAGUGCGGCUAACCUAAAAGUAAAGUGCGUGAUAGGACUGCAGAUGUGAUUCAAAACAGGAGUGUCGAGCACCAUAAGUAUACAAGAACUUCGUGCGGGCCGGCACUAUGCUAUCAUUUAGGACCCGUGUGCUCGAGAAAGGUCUUUGCUGGCAGCUGUGUUGCUAACUACCGUUGAUAUUAAACUGAGCUCGUAAUAUAGAAAUAAGAUGACACAUCAUUCGCAAGCACGCUGUAUGGGCUAUGGUAAAGACCUUAAUGAAAAGGCCAGUAGGCCCGAGCGCAACGCUGCAAUGCGUGGACAACGACCGGCUACCAAUUUUUCCGAAAAGUCGUACUAAGGUAAGACAAGGGCCCCAGUUCGUCCUUCAUGAGGGUAGAAAAUACCCUCGUUGCGACAGUUGCGAUCCCAGAGGAAUUAGUAAUUGACGAAGUCCCCCUAGCCCUCGCCGCCCGUG'"
      ]
     },
     "execution_count": 31,
     "metadata": {},
     "output_type": "execute_result"
    }
   ],
   "source": [
    "def rna(str_in):\n",
    "    return str_in.replace('T', 'U')\n",
    "\n",
    "rna('GATGGAACTTGACTACGTAAATT')\n",
    "rna(read_dataset_str('rosalind_rna.txt'))"
   ]
  },
  {
   "cell_type": "markdown",
   "metadata": {},
   "source": [
    "### REVC: Complementing a Strand of DNA"
   ]
  },
  {
   "cell_type": "code",
   "execution_count": 39,
   "metadata": {
    "collapsed": false
   },
   "outputs": [
    {
     "data": {
      "text/plain": [
       "'ACCGGGTTTT'"
      ]
     },
     "execution_count": 39,
     "metadata": {},
     "output_type": "execute_result"
    },
    {
     "data": {
      "text/plain": [
       "'ACAGAGACGGCGGGTGTGCGTGCCCACAGTTCGAACCCTGGACAACCGCGCAGATGGATGATTTAAGATGCCTCACCTCTTGCATGAGTTGCCTTACACCCGCACTCTATCCGGACCGATCCAACAGACTAGCCCAAAGCTGAGGGAAGACGGGCATAGCGGCACTGCATTAGAAAAACTCCCGCAACACCGGGTAGTCCGAGACCCCCACCCTTAAACATGGTCTAGCGTGGTACAAAGATAGCCCTCGTAATACAACTACCCCTGCAACGTCATCGCAACTTATCGTTGACATACTTGGATAATGCCCTTTTAAGGTTGTGAGTTGGTAATAGTGCCCGGATTGCCGTTGCGGCGGGCAAGTTCTTCCACCAATATCAGGGGTGTTCACCACCTTCGTAGAATTTGACAGATGACCGACCAACAACGCTGTAGGAATCAAGTGAAGTAAACCTGCGGTTCTGAATTTTATGCGTCCTGCCTTGATGGTGGAGTGTAAGTGGACCGTTACGGAATACTCGTACAAAACTGACCCGGGGATCACCGCTCGAACATTCGGCTGCGCATAAACCCGAGGTCCGAATGAGGCCATGGTAAGAGTTAGAGTGGTGACCCTGCGATCGGAGAGAGATAACGGCCGTATGATTGCCTGGCGTCAAGACCCAGGTCCCAGCGTTGGCTTACGATTCCTCAATATCGGTGACGGGAAAGGTGACAAGAGTACAGGTGATCCGACGTCCGGTGTTACGCATACGATCGACAAGCGAAGACTCTACAGGATGCTTTTGATTAGGTATAGGCTTAGGTCACGAGCAGACTAGCCTATGTAGGCCAGCAAATAAATGTCAAGGAAGTTCAGCTCAACGATAAATAGCACGATAATTTGTGGTTCGGTGTACACAAATCATGTCGCCTGGATTGGTGGCGTCCGGACTACTCGCTGTGGCGC'"
      ]
     },
     "execution_count": 39,
     "metadata": {},
     "output_type": "execute_result"
    }
   ],
   "source": [
    "def revc(str_in):\n",
    "    tr_dict = {'A': 'T', 'T': 'A', 'G': 'C', 'C': 'G'}\n",
    "    str_out = ''.join(tr_dict.get(nucl) for nucl in str_in)\n",
    "    return str_out[::-1]\n",
    "\n",
    "revc('AAAACCCGGT')\n",
    "revc(read_dataset_str('rosalind_revc.txt'))"
   ]
  },
  {
   "cell_type": "markdown",
   "metadata": {},
   "source": [
    "### GC: Computing GC Content"
   ]
  },
  {
   "cell_type": "code",
   "execution_count": 61,
   "metadata": {
    "collapsed": false,
    "scrolled": false
   },
   "outputs": [
    {
     "name": "stdout",
     "output_type": "stream",
     "text": [
      "Rosalind_0808\n",
      "60.91954\n",
      "Rosalind_2124\n",
      "53.125\n"
     ]
    }
   ],
   "source": [
    "def read_fasta(fastafile):\n",
    "    '''Transform fasta in txt into dictionary: name[sequence]'''\n",
    "    with open(fastafile) as inf:\n",
    "        fasta_list = [i.strip() for i in inf.readlines()]\n",
    "    records_dict = {}\n",
    "    for line in fasta_list:\n",
    "        if '>' in line:\n",
    "            new_key = line[1:]\n",
    "            records_dict[new_key] = ''\n",
    "            continue\n",
    "        else:\n",
    "            records_dict[new_key] += line[:]\n",
    "    return records_dict\n",
    "\n",
    "def gc(fastafile):\n",
    "    records_dict = read_fasta(fastafile)\n",
    "    GC_content_max = 0\n",
    "\n",
    "    for record in records_dict.keys():\n",
    "        dna = records_dict[record]\n",
    "        GC_content = ((dna.count('G')+dna.count('C'))/len(dna)*100)\n",
    "        if GC_content > GC_content_max:\n",
    "            GC_content_max = GC_content\n",
    "            record_max = record\n",
    "    print(record_max, round(GC_content_max, 6), sep='\\n')\n",
    "\n",
    "gc('input_gc.txt')\n",
    "gc('rosalind_gc.txt')"
   ]
  },
  {
   "cell_type": "markdown",
   "metadata": {
    "collapsed": true
   },
   "source": [
    "### HAMM: Counting Point Mutations"
   ]
  },
  {
   "cell_type": "code",
   "execution_count": 22,
   "metadata": {
    "collapsed": false
   },
   "outputs": [
    {
     "data": {
      "text/plain": [
       "7"
      ]
     },
     "execution_count": 22,
     "metadata": {},
     "output_type": "execute_result"
    },
    {
     "data": {
      "text/plain": [
       "413"
      ]
     },
     "execution_count": 22,
     "metadata": {},
     "output_type": "execute_result"
    }
   ],
   "source": [
    "def hamm(lst_in):\n",
    "    hamm_count = int()\n",
    "    for i in range(len(lst_in[0])):\n",
    "        if lst_in[0][i] != lst_in[1][i]:\n",
    "            hamm_count += 1\n",
    "    return hamm_count\n",
    "hamm(read_dataset_list('input.txt'))\n",
    "hamm(read_dataset_list('rosalind_hamm.txt'))"
   ]
  },
  {
   "cell_type": "markdown",
   "metadata": {},
   "source": [
    "### PROT: Translating RNA into Protein"
   ]
  },
  {
   "cell_type": "code",
   "execution_count": 27,
   "metadata": {
    "collapsed": false
   },
   "outputs": [
    {
     "data": {
      "text/plain": [
       "'MAMAPRTEINSTRING'"
      ]
     },
     "execution_count": 27,
     "metadata": {},
     "output_type": "execute_result"
    },
    {
     "data": {
      "text/plain": [
       "'MERSADLAIKGSEKDVVAVRLITPKYKESVPTCGLRRRLPILERNASGHLGLTLIHPTCNDKNITPLPYDNHHDITDSMLADNMPISSMGHWIPQSGVVTLPATPINACSRGSSRAVNSHYYVITGIVGGVCMATRIEFANGTAVLQATKQLSTLEQPHHSRRPSHESSIPSASINTLSALSKGHQSARLCVYPTINLFNQYTGTALPTPITEYVQHRLSKRLMSRIGRPPPVGGHPKSASQTYYTVPDLTFTRTSSSPSSTELALNLSSFVPCNHWFSRAGCTHVSGLSRSVVCEVGCVARNTQVRLTWCVGVSLHLGAEKRATASDFDGYGRRPSFQCGVSPNIRLVNSTADCPFPRPLLGLTVISACPGWRRLVPLPTRASDPRRNVAKLGTVARPYRYFDSGRSTCESRCGNYALYGRLACLPYEHRAVEMRLDSSLVGSLICKGFPRSCRRAIGRVSQRAHITVVEHGLRVRGPEKGKSSGIDLVIHSPNSLGRRTIAVADLGHRSIRRAQLPSYHWTTNRVGILHRFDQGLKSNEEIGFPPVRTITVHVIAEAARLHEPWSRFRRCIQLLIAVMQPVLSKSTNTVDLLASLCAKGRTYTARIGRVTISASGPPASRRHGSWLDCQLGEGVEKSSASACFAILFILASEARPAEEAITSLPSSAKSMSGGGILANGRRDQGPHPLTIRVHAKCSGLQGATDTVSDHGSYDGEWTFPNGRDVHRTYSNAKLRSTPCTSIILSSAFVEYRRVTIREPWINSRWFDEVVRGSVFVSWPLHGAIHWHVISRPKKVICHCPPCERAFPPSGLSRCRALIDEPVRSFDPSQLRASDARDFFNPVAIALFNTQHIDTGLSYPLPCKFIVILEADRLHKPLRSPPFRLPGACNLIGCTVGPGCVLGRPLTSSLHIPRGIRVSIRPSPRGVYRKKIAHCFRGVVSLQSPVPRIRGETSSSNMHENEPQYHPHYVVAAVPWRLGELEVTGFDNAYSLLTYVRALDGLSVRAYSRLVAQSNEDNRGRRKSCFNAERAVNLYPRHWVSPRLDKTMPPQWRTVSWLDARVIRSRDKYHLTEACRPTRCSNRGNICYIGDSSKVSDTDLRPLSSRVSLRGGVSYGSYVSPQELVATWSARFLPSLSTFVLWGLRHYRNIGRDVGCLVGKCCASLDTSAARGRDPLSRHGTTSPLGPSNHEHSGDSLFKCSFVNMRGCAIDRNRQTLMQPRFSRVLNLWLSVSIFNLGGALNLHCGGVNMHVVCFKHFVAAGCPVKARAVLYDAFPYTITRVAVPRASRHTLMLTEGNVPITIESSTCSYKSRTILSQGYFAPKTNCLVVRGRSLCYVTHCALEQTRLTQLYMSTREHRNRTSRIGVLENSIFWPASYLILISKASRRQSAVGGEPNWSASQVDVGTRTPDAISPKFGAPNFHSSTYEKQCVRQFDSYPMHTEDIYYFDEYGLGLPRSAHGEGDRVYGTSFVVTFGWPGQPRKLRLLVPFSLNDCPCNCAPNATRELDRQRKQEVTGMGPRSVGGRWNIARELALSTSVVNQVSIAELGTRAQHSLVAIRCRIGDIRVTIPNCLIQAPRMHFACSAKTRSACGVPRTWPVATAFITGAQNPRHYSMTGTRFTKVPYFTCLGPVQQHHSVRTLELATSPAAMAYLSLHRSWGLEGGPTGERARSAVLSTDQKDTLRLKTCCTDTDMELPTLRQLSKSQHGLSRSVAVLPIVAGHRPPPPRPLSMPNRRTAGQVVGVIDCAGTNYTPYVRRAMVSDGGMKGNGKALYTLNIARRNCHAEVLTRKSHFTIALTRTSRCPRSVDHQHEMSRYRLLIVRSKPTMVFQASASLSQYRVVRTLPNRPCGLRKVVLHYTSGHAIGGSCPGSYSSYCHHFVVAVNRRFYNSKYAYAYHELYEGYNGSTQKSRTWGWAASLPWLSKASRDLVVLPPPDRPMDRHNKLISVRKAYKKYGRLVDKTRYCRWSQIEPLVRSTFPACKIGLMGSERSSYASALNLAESDKVKRSRNNRAAVLRLNRSRLGEQPYEQVQIRHTCRCYLRSVLQLVWQKAKSSASVGVHPPLAVAAVREPLSRPCACFLHATYASLVNWSAAILSLRRAHDMPVPRYPPSQVTGALTRHGNVWCVRRYRCNRWARSRNYTANSSKEGIRQCPQGFLVPPTCLSLRTLAVFEELVLTAPAFPTIGTICASYCLVSTDGSLEQVKGQSKILIDRIYRLDSHLRRPETKSYTINLCADPLIGFSSWVPGKSVPWGTKYLSGTNPITLMARLLHLRLARWSVKTRMQLYGAQCALSPSHSPACPAFIPRHDRNGVPCRANLDVSYTVLLTIFWRVEPLRSFALSSVLYHTFPWSLRLGVRFCELNHRRGTPTVHTTRRFLLSRRGLFCPVWLEKQATEYQQPRVARRTEHLTVCPTARPSLQEGRSSGTYDKVAICEAEDHTHFGPEPRRLPSALSLSRSPRRLQCAKYRFAKKVSADDRISPIGANRAHSHLLKLYGSTFNPNLSCTGPKFYFHSRKRYEAMESDKCGTSLIDPLVGELCARIPRVFVGPYSAVRGETPLSVYSLRPSHPWVHLPMGLEEETIVFKRAAKLHYHNTLNPLPGHLPAVLRLDLYRLTQKCSQARPIGYLPELAVTIYVSGISPSRCYELNGASNNLYSFLDGEAGPWENARRSLCRVFRDGPVFRINSSYFSNSQIWRMLAP'"
      ]
     },
     "execution_count": 27,
     "metadata": {},
     "output_type": "execute_result"
    }
   ],
   "source": [
    "import re\n",
    "\n",
    "def prot(rna):\n",
    "    rna_splitted = re.findall(\"\\w{3}\", rna)\n",
    "    codon_table = {'UUU':'F', 'CUU':'L', 'AUU':'I', 'GUU':'V', 'UUC':'F', 'CUC':'L', 'AUC':'I', 'GUC':'V', 'UUA':'L', 'CUA':'L', 'AUA':'I', 'GUA':'V', 'UUG':'L', 'CUG':'L', 'AUG':'M', 'GUG':'V', 'UCU':'S', 'CCU':'P', 'ACU':'T', 'GCU':'A', 'UCC':'S', 'CCC':'P', 'ACC':'T', 'GCC':'A', 'UCA':'S', 'CCA':'P', 'ACA':'T', 'GCA':'A', 'UCG':'S', 'CCG':'P', 'ACG':'T', 'GCG':'A', 'UAU':'Y', 'CAU':'H', 'AAU':'N', 'GAU':'D', 'UAC':'Y', 'CAC':'H', 'AAC':'N', 'GAC':'D', 'UAA':'Stop', 'CAA':'Q', 'AAA':'K', 'GAA':'E', 'UAG':'Stop', 'CAG':'Q', 'AAG':'K', 'GAG':'E', 'UGU':'C', 'CGU':'R', 'AGU':'S', 'GGU':'G', 'UGC':'C', 'CGC':'R', 'AGC':'S', 'GGC':'G', 'UGA':'Stop', 'CGA':'R', 'AGA':'R', 'GGA':'G', 'UGG':'W', 'CGG':'R', 'AGG':'R', 'GGG':'G'}\n",
    "    protein = [codon_table[codon] for codon in rna_splitted]\n",
    "    del protein[-1]\n",
    "    return ''.join(protein)\n",
    "\n",
    "prot(read_dataset_str('input'))\n",
    "prot(read_dataset_str('rosalind_prot.txt'))"
   ]
  },
  {
   "cell_type": "code",
   "execution_count": 35,
   "metadata": {
    "collapsed": false,
    "scrolled": false
   },
   "outputs": [
    {
     "name": "stdout",
     "output_type": "stream",
     "text": [
      "MAMAPRTEINSTRING\n"
     ]
    }
   ],
   "source": [
    "string = \"\"\"UUU F      CUU L      AUU I      GUU V\n",
    "UUC F      CUC L      AUC I      GUC V\n",
    "UUA L      CUA L      AUA I      GUA V\n",
    "UUG L      CUG L      AUG M      GUG V\n",
    "UCU S      CCU P      ACU T      GCU A\n",
    "UCC S      CCC P      ACC T      GCC A\n",
    "UCA S      CCA P      ACA T      GCA A\n",
    "UCG S      CCG P      ACG T      GCG A\n",
    "UAU Y      CAU H      AAU N      GAU D\n",
    "UAC Y      CAC H      AAC N      GAC D\n",
    "UAA Stop   CAA Q      AAA K      GAA E\n",
    "UAG Stop   CAG Q      AAG K      GAG E\n",
    "UGU C      CGU R      AGU S      GGU G\n",
    "UGC C      CGC R      AGC S      GGC G\n",
    "UGA Stop   CGA R      AGA R      GGA G\n",
    "UGG W      CGG R      AGG R      GGG G\"\"\"\n",
    "\n",
    "coded = \"AUGGCCAUGGCGCCCAGAACUGAGAUCAAUAGUACCCGUAUUAACGGGUGA\"\n",
    "decoded = ''\n",
    "\n",
    "traL =  string.split()\n",
    "traDict = dict(zip(traL[0::2], traL[1::2]))\n",
    "\n",
    "for i in range(0, len(coded)-3, 3):\n",
    "    decoded += traDict[coded[i:i+3]]\n",
    "print(decoded)"
   ]
  },
  {
   "cell_type": "markdown",
   "metadata": {},
   "source": [
    "### SUBS: Finding a Motif in DNA"
   ]
  },
  {
   "cell_type": "code",
   "execution_count": 84,
   "metadata": {
    "collapsed": false,
    "scrolled": true
   },
   "outputs": [
    {
     "name": "stdout",
     "output_type": "stream",
     "text": [
      "2 4 10\n",
      "5 28 35 45 52 69 76 103 240 262 287 488 506 525 604 663 678 702 739\n"
     ]
    }
   ],
   "source": [
    "def subs(lst_in):\n",
    "    string, sub_string = lst_in\n",
    "    res_lst = [0]\n",
    "    \n",
    "    while -1 not in res_lst:\n",
    "        res_lst.append(string.find(sub_string, res_lst[-1] + 1))\n",
    "    res_lst = [str(i + 1) for i in res_lst[1:-1]]\n",
    "    print(' '.join(res_lst))\n",
    "\n",
    "subs(['GATATATGCATATACTT', 'ATAT'])\n",
    "subs(read_dataset_list('rosalind_subs.txt'))"
   ]
  },
  {
   "cell_type": "markdown",
   "metadata": {},
   "source": [
    "### FIB: Rabbits and Recurrence Relations'"
   ]
  },
  {
   "cell_type": "code",
   "execution_count": 11,
   "metadata": {
    "collapsed": false
   },
   "outputs": [
    {
     "data": {
      "text/plain": [
       "19"
      ]
     },
     "execution_count": 11,
     "metadata": {},
     "output_type": "execute_result"
    },
    {
     "data": {
      "text/plain": [
       "715827883"
      ]
     },
     "execution_count": 11,
     "metadata": {},
     "output_type": "execute_result"
    }
   ],
   "source": [
    "def fib(n, k):\n",
    "    lst_fib = [0,1]\n",
    "    for _ in range(n-1):\n",
    "        lst_fib.append(lst_fib[-1] + k * lst_fib[-2])\n",
    "    return lst_fib[-1]\n",
    "\n",
    "fib(5, 3)\n",
    "fib(31, 2)"
   ]
  },
  {
   "cell_type": "markdown",
   "metadata": {},
   "source": [
    "### IPRB: Mendel's First Law"
   ]
  },
  {
   "cell_type": "code",
   "execution_count": 62,
   "metadata": {
    "collapsed": false
   },
   "outputs": [
    {
     "data": {
      "text/plain": [
       "0.78333333333333333"
      ]
     },
     "execution_count": 62,
     "metadata": {},
     "output_type": "execute_result"
    },
    {
     "data": {
      "text/plain": [
       "0.78110859728506787"
      ]
     },
     "execution_count": 62,
     "metadata": {},
     "output_type": "execute_result"
    }
   ],
   "source": [
    "from scipy.misc import comb\n",
    "\n",
    "def iprb(k, m, n):\n",
    "    '''k individuals are homozygous dominant for a factor,\n",
    "    m are heterozygous, and n are homozygous recessive.'''\n",
    "    summa = k + m + n\n",
    "    total_comb = 4 * comb(summa, 2)\n",
    "    total_comb_rec = 4 * comb(n, 2) + 2 * n * m + comb(m, 2)\n",
    "    return 1 - total_comb_rec/total_comb\n",
    "\n",
    "iprb(2,2,2)\n",
    "iprb(18,19,15)"
   ]
  },
  {
   "cell_type": "markdown",
   "metadata": {},
   "source": [
    "## Bioinformatics Armory"
   ]
  },
  {
   "cell_type": "markdown",
   "metadata": {},
   "source": [
    "### INI: Introduction to the Bioinformatics Armory"
   ]
  },
  {
   "cell_type": "code",
   "execution_count": 14,
   "metadata": {
    "collapsed": false
   },
   "outputs": [
    {
     "name": "stdout",
     "output_type": "stream",
     "text": [
      "20 12 17 21\n",
      "203 218 200 193\n"
     ]
    }
   ],
   "source": [
    "from Bio.Seq import Seq\n",
    "\n",
    "def ini(sequence):\n",
    "    my_seq = Seq(sequence)\n",
    "    nucl_counts = [my_seq.count(i) for i in ['A', 'C', 'G', 'T']]\n",
    "    print(*nucl_counts)\n",
    "\n",
    "ini('AGCTTTTCATTCTGACTGCAACGGGCAATATGTCTCTGTGTGGATTAAAAAAAGAGTGTCTGATAGCAGC')\n",
    "ini(read_dataset_str('rosalind_ini.txt'))"
   ]
  },
  {
   "cell_type": "markdown",
   "metadata": {},
   "source": [
    "### DBPR: Introduction to Protein Databases\t"
   ]
  },
  {
   "cell_type": "code",
   "execution_count": 44,
   "metadata": {
    "collapsed": false,
    "scrolled": false
   },
   "outputs": [
    {
     "name": "stdout",
     "output_type": "stream",
     "text": [
      "DNA recombination\n",
      "DNA repair\n",
      "DNA replication\n",
      "'de novo' pyrimidine nucleobase biosynthetic process\n",
      "'de novo' UMP biosynthetic process\n"
     ]
    }
   ],
   "source": [
    "from Bio import ExPASy\n",
    "from Bio import SwissProt\n",
    "\n",
    "def dbpr(up_id):\n",
    "    handle = ExPASy.get_sprot_raw(up_id)\n",
    "    record = SwissProt.read(handle)\n",
    "    go_functions = [i[2][2:] for i in record.cross_references if i[0] == 'GO' and i[2][0] == 'P']\n",
    "    for i in go_functions:\n",
    "        print(i)\n",
    "\n",
    "dbpr('Q5SLP9')\n",
    "dbpr(read_dataset_str('dbpr'))"
   ]
  },
  {
   "cell_type": "markdown",
   "metadata": {},
   "source": [
    "### CONS: Consensus and Profile       "
   ]
  },
  {
   "cell_type": "code",
   "execution_count": 25,
   "metadata": {
    "collapsed": false
   },
   "outputs": [],
   "source": [
    "from read_dataset import read_fasta\n",
    "from collections import Counter\n",
    "\n",
    "def cons(str_in):\n",
    "    dct_fasta = read_fasta(str_in)\n",
    "    prof_matr = [i for i in dct_fasta.values()]\n",
    "    nucl_counts = []\n",
    "    \n",
    "    for i in range(len(prof_matr[0])):\n",
    "        str_nucl = ''\n",
    "        for j in prof_matr:\n",
    "            str_nucl += j[i]\n",
    "        nucl_counts.append(Counter(str_nucl))\n",
    "    \n",
    "    consensus = ''\n",
    "    for i in nucl_counts:\n",
    "        consensus += max(i, key=i.get)\n",
    "    \n",
    "    with open('output.txt', 'w') as ouf:\n",
    "        ouf.write('{}\\n'.format(consensus))\n",
    "        for nucl in ['A', 'C', 'G', 'T']:\n",
    "            ouf.write('{}: '.format(nucl))\n",
    "            nucl_numb = [i.get(nucl, 0) for i in nucl_counts]\n",
    "            ouf.write(' '.join(map(str, nucl_numb)))\n",
    "            ouf.write('\\n')\n",
    "    \n",
    "# cons('input')\n",
    "cons('cons')"
   ]
  },
  {
   "cell_type": "markdown",
   "metadata": {},
   "source": [
    "### FIBD: Mortal Fibonacci Rabbits'"
   ]
  },
  {
   "cell_type": "code",
   "execution_count": 31,
   "metadata": {
    "collapsed": false
   },
   "outputs": [
    {
     "data": {
      "text/plain": [
       "677623885055661681"
      ]
     },
     "execution_count": 31,
     "metadata": {},
     "output_type": "execute_result"
    }
   ],
   "source": [
    "def fibd(n, m):\n",
    "    lst_fibd = [1] + [0] * (m - 1)\n",
    "    for i in range(1, n):\n",
    "        bun = 0\n",
    "        for j in range(1, m):\n",
    "            bun += lst_fibd[(i - j - 1) % m]\n",
    "        lst_fibd[(i) % m] = bun\n",
    "\n",
    "    # Total rabbits is the sum of the living rabbits.\n",
    "    int_ret = sum(lst_fibd)\n",
    "    return int_ret\n",
    "    \n",
    "\n",
    "# fibd(6, 3)\n",
    "fibd(87, 19)"
   ]
  },
  {
   "cell_type": "markdown",
   "metadata": {},
   "source": [
    "### GRPH: Overlap Graphs      "
   ]
  },
  {
   "cell_type": "code",
   "execution_count": 44,
   "metadata": {
    "collapsed": true
   },
   "outputs": [
    {
     "name": "stdout",
     "output_type": "stream",
     "text": [
      "Rosalind_0237 Rosalind_0144\n",
      "Rosalind_6937 Rosalind_0144\n",
      "Rosalind_1987 Rosalind_0144\n",
      "Rosalind_2159 Rosalind_5714\n",
      "Rosalind_2156 Rosalind_5714\n",
      "Rosalind_7769 Rosalind_5714\n",
      "Rosalind_5714 Rosalind_0550\n",
      "Rosalind_7541 Rosalind_0550\n",
      "Rosalind_3705 Rosalind_0550\n",
      "Rosalind_1418 Rosalind_0550\n",
      "Rosalind_2225 Rosalind_0550\n",
      "Rosalind_4171 Rosalind_9234\n",
      "Rosalind_6861 Rosalind_2533\n",
      "Rosalind_6966 Rosalind_2533\n",
      "Rosalind_9927 Rosalind_2533\n",
      "Rosalind_3989 Rosalind_2533\n",
      "Rosalind_7202 Rosalind_9963\n",
      "Rosalind_6826 Rosalind_9963\n",
      "Rosalind_3465 Rosalind_3976\n",
      "Rosalind_7746 Rosalind_3976\n",
      "Rosalind_8113 Rosalind_2304\n",
      "Rosalind_3250 Rosalind_2922\n",
      "Rosalind_0141 Rosalind_2922\n",
      "Rosalind_2922 Rosalind_3450\n",
      "Rosalind_3624 Rosalind_3450\n",
      "Rosalind_5050 Rosalind_1155\n",
      "Rosalind_4171 Rosalind_4513\n",
      "Rosalind_2922 Rosalind_5246\n",
      "Rosalind_3624 Rosalind_5246\n",
      "Rosalind_0740 Rosalind_7080\n",
      "Rosalind_7080 Rosalind_4020\n",
      "Rosalind_2837 Rosalind_4020\n",
      "Rosalind_4998 Rosalind_4020\n",
      "Rosalind_4239 Rosalind_4020\n",
      "Rosalind_6524 Rosalind_2837\n",
      "Rosalind_9790 Rosalind_4156\n",
      "Rosalind_2463 Rosalind_4156\n",
      "Rosalind_3465 Rosalind_9100\n",
      "Rosalind_7746 Rosalind_9100\n",
      "Rosalind_4600 Rosalind_3250\n",
      "Rosalind_2922 Rosalind_9394\n",
      "Rosalind_3624 Rosalind_9394\n",
      "Rosalind_8113 Rosalind_1534\n",
      "Rosalind_1155 Rosalind_0785\n",
      "Rosalind_8696 Rosalind_0785\n",
      "Rosalind_7658 Rosalind_0785\n",
      "Rosalind_9287 Rosalind_8711\n",
      "Rosalind_2159 Rosalind_6861\n",
      "Rosalind_2156 Rosalind_6861\n",
      "Rosalind_7769 Rosalind_6861\n",
      "Rosalind_4171 Rosalind_8696\n",
      "Rosalind_9790 Rosalind_6529\n",
      "Rosalind_2463 Rosalind_6529\n",
      "Rosalind_4156 Rosalind_2159\n",
      "Rosalind_8985 Rosalind_2159\n",
      "Rosalind_4118 Rosalind_2159\n",
      "Rosalind_3976 Rosalind_9929\n",
      "Rosalind_6529 Rosalind_9929\n",
      "Rosalind_4975 Rosalind_9929\n",
      "Rosalind_8815 Rosalind_9929\n",
      "Rosalind_9245 Rosalind_9929\n",
      "Rosalind_7080 Rosalind_6628\n",
      "Rosalind_2837 Rosalind_6628\n",
      "Rosalind_4998 Rosalind_6628\n",
      "Rosalind_4239 Rosalind_6628\n",
      "Rosalind_8382 Rosalind_2156\n",
      "Rosalind_2561 Rosalind_2156\n",
      "Rosalind_8711 Rosalind_9287\n",
      "Rosalind_3927 Rosalind_9287\n",
      "Rosalind_2304 Rosalind_7202\n",
      "Rosalind_0785 Rosalind_7202\n",
      "Rosalind_3441 Rosalind_7202\n",
      "Rosalind_3976 Rosalind_0740\n",
      "Rosalind_6529 Rosalind_0740\n",
      "Rosalind_4975 Rosalind_0740\n",
      "Rosalind_8815 Rosalind_0740\n",
      "Rosalind_9245 Rosalind_0740\n",
      "Rosalind_9394 Rosalind_4998\n",
      "Rosalind_0039 Rosalind_4998\n",
      "Rosalind_4682 Rosalind_4998\n",
      "Rosalind_5914 Rosalind_4998\n",
      "Rosalind_3874 Rosalind_7658\n",
      "Rosalind_9929 Rosalind_5050\n",
      "Rosalind_6861 Rosalind_0141\n",
      "Rosalind_6966 Rosalind_0141\n",
      "Rosalind_9927 Rosalind_0141\n",
      "Rosalind_3989 Rosalind_0141\n",
      "Rosalind_3976 Rosalind_7033\n",
      "Rosalind_6529 Rosalind_7033\n",
      "Rosalind_4975 Rosalind_7033\n",
      "Rosalind_8815 Rosalind_7033\n",
      "Rosalind_9245 Rosalind_7033\n",
      "Rosalind_2922 Rosalind_7973\n",
      "Rosalind_3624 Rosalind_7973\n",
      "Rosalind_9790 Rosalind_4975\n",
      "Rosalind_2463 Rosalind_4975\n",
      "Rosalind_0550 Rosalind_1963\n",
      "Rosalind_4020 Rosalind_1963\n",
      "Rosalind_0272 Rosalind_1963\n",
      "Rosalind_1623 Rosalind_1963\n",
      "Rosalind_9790 Rosalind_9475\n",
      "Rosalind_2463 Rosalind_9475\n",
      "Rosalind_7033 Rosalind_0272\n",
      "Rosalind_5311 Rosalind_0272\n",
      "Rosalind_2304 Rosalind_9408\n",
      "Rosalind_0785 Rosalind_9408\n",
      "Rosalind_3441 Rosalind_9408\n",
      "Rosalind_8711 Rosalind_2891\n",
      "Rosalind_3927 Rosalind_2891\n",
      "Rosalind_3465 Rosalind_7746\n",
      "Rosalind_3662 Rosalind_4600\n",
      "Rosalind_2891 Rosalind_4600\n",
      "Rosalind_0960 Rosalind_4171\n",
      "Rosalind_0960 Rosalind_0039\n",
      "Rosalind_4156 Rosalind_8815\n",
      "Rosalind_8985 Rosalind_8815\n",
      "Rosalind_4118 Rosalind_8815\n",
      "Rosalind_0550 Rosalind_3624\n",
      "Rosalind_4020 Rosalind_3624\n",
      "Rosalind_0272 Rosalind_3624\n",
      "Rosalind_1623 Rosalind_3624\n",
      "Rosalind_4156 Rosalind_1418\n",
      "Rosalind_8985 Rosalind_1418\n",
      "Rosalind_4118 Rosalind_1418\n",
      "Rosalind_0144 Rosalind_9466\n",
      "Rosalind_3450 Rosalind_9466\n",
      "Rosalind_2922 Rosalind_4682\n",
      "Rosalind_3624 Rosalind_4682\n",
      "Rosalind_9149 Rosalind_8985\n",
      "Rosalind_0578 Rosalind_8985\n",
      "Rosalind_3127 Rosalind_8499\n",
      "Rosalind_6645 Rosalind_8499\n",
      "Rosalind_8113 Rosalind_6826\n",
      "Rosalind_9100 Rosalind_2290\n",
      "Rosalind_1534 Rosalind_2290\n",
      "Rosalind_9408 Rosalind_7334\n",
      "Rosalind_2604 Rosalind_7334\n",
      "Rosalind_2159 Rosalind_9928\n",
      "Rosalind_2156 Rosalind_9928\n",
      "Rosalind_7769 Rosalind_9928\n",
      "Rosalind_3254 Rosalind_6937\n",
      "Rosalind_2290 Rosalind_6937\n",
      "Rosalind_2533 Rosalind_7769\n",
      "Rosalind_3465 Rosalind_2225\n",
      "Rosalind_7746 Rosalind_2225\n",
      "Rosalind_9149 Rosalind_2561\n",
      "Rosalind_0578 Rosalind_2561\n",
      "Rosalind_9963 Rosalind_1783\n",
      "Rosalind_8711 Rosalind_3874\n",
      "Rosalind_3927 Rosalind_3874\n",
      "Rosalind_8382 Rosalind_5914\n",
      "Rosalind_2561 Rosalind_5914\n",
      "Rosalind_9963 Rosalind_2463\n",
      "Rosalind_1155 Rosalind_2604\n",
      "Rosalind_8696 Rosalind_2604\n",
      "Rosalind_7658 Rosalind_2604\n",
      "Rosalind_9929 Rosalind_0578\n",
      "Rosalind_4600 Rosalind_1987\n",
      "Rosalind_9475 Rosalind_1623\n",
      "Rosalind_5278 Rosalind_6645\n",
      "Rosalind_6524 Rosalind_4118\n",
      "Rosalind_6861 Rosalind_9245\n",
      "Rosalind_6966 Rosalind_9245\n",
      "Rosalind_9927 Rosalind_9245\n",
      "Rosalind_3989 Rosalind_9245\n",
      "Rosalind_0144 Rosalind_0960\n",
      "Rosalind_3450 Rosalind_0960\n",
      "Rosalind_9100 Rosalind_5311\n",
      "Rosalind_1534 Rosalind_5311\n"
     ]
    }
   ],
   "source": [
    "from read_dataset import read_fasta\n",
    "\n",
    "def grph(str_in):\n",
    "    dct_fasta = read_fasta(str_in)\n",
    "    lst_seq = [[key, value[:3], value[-3:]] for key, value in dct_fasta.items()]\n",
    "    answer = []\n",
    "    for start in lst_seq:\n",
    "        for end in lst_seq:\n",
    "            if start[1] == end[2] and start[0] != end[0]:\n",
    "                answer.append([end[0], start[0]])\n",
    "    return [print(*i) for i in answer][0]\n",
    "    \n",
    "# grph('input')\n",
    "grph('grph')"
   ]
  },
  {
   "cell_type": "markdown",
   "metadata": {},
   "source": [
    "### IEV: Calculating Expected Offspring'"
   ]
  },
  {
   "cell_type": "code",
   "execution_count": 29,
   "metadata": {
    "collapsed": false
   },
   "outputs": [
    {
     "data": {
      "text/plain": [
       "162339.5"
      ]
     },
     "execution_count": 29,
     "metadata": {},
     "output_type": "execute_result"
    }
   ],
   "source": [
    "def iev(str_in):\n",
    "    lst_couples = [int(i) for i in str_in.split()]\n",
    "    lst_prob_coup = [1, 1, 1, .75, .5, 0]\n",
    "    lst_prob_total = list()\n",
    "    lst_prob_total.append(2 * no_coup * lst_prob_coup[i] for i, no_coup in enumerate(lst_couples))\n",
    "    result = sum(*lst_prob_total)\n",
    "    return result\n",
    "    \n",
    "# iev('1 0 0 1 0 1')\n",
    "iev(read_dataset_str('iev'))"
   ]
  },
  {
   "cell_type": "markdown",
   "metadata": {},
   "source": [
    "         \n",
    "### MPRT: Finding a Protein Motif     "
   ]
  },
  {
   "cell_type": "code",
   "execution_count": 20,
   "metadata": {
    "collapsed": false
   },
   "outputs": [
    {
     "ename": "URLError",
     "evalue": "<urlopen error [Errno 8] nodename nor servname provided, or not known>",
     "output_type": "error",
     "traceback": [
      "\u001b[0;31m---------------------------------------------------------------------------\u001b[0m",
      "\u001b[0;31mgaierror\u001b[0m                                  Traceback (most recent call last)",
      "\u001b[0;32m/Users/alex/anaconda/lib/python3.5/urllib/request.py\u001b[0m in \u001b[0;36mdo_open\u001b[0;34m(self, http_class, req, **http_conn_args)\u001b[0m\n\u001b[1;32m   1253\u001b[0m             \u001b[0;32mtry\u001b[0m\u001b[0;34m:\u001b[0m\u001b[0;34m\u001b[0m\u001b[0m\n\u001b[0;32m-> 1254\u001b[0;31m                 \u001b[0mh\u001b[0m\u001b[0;34m.\u001b[0m\u001b[0mrequest\u001b[0m\u001b[0;34m(\u001b[0m\u001b[0mreq\u001b[0m\u001b[0;34m.\u001b[0m\u001b[0mget_method\u001b[0m\u001b[0;34m(\u001b[0m\u001b[0;34m)\u001b[0m\u001b[0;34m,\u001b[0m \u001b[0mreq\u001b[0m\u001b[0;34m.\u001b[0m\u001b[0mselector\u001b[0m\u001b[0;34m,\u001b[0m \u001b[0mreq\u001b[0m\u001b[0;34m.\u001b[0m\u001b[0mdata\u001b[0m\u001b[0;34m,\u001b[0m \u001b[0mheaders\u001b[0m\u001b[0;34m)\u001b[0m\u001b[0;34m\u001b[0m\u001b[0m\n\u001b[0m\u001b[1;32m   1255\u001b[0m             \u001b[0;32mexcept\u001b[0m \u001b[0mOSError\u001b[0m \u001b[0;32mas\u001b[0m \u001b[0merr\u001b[0m\u001b[0;34m:\u001b[0m \u001b[0;31m# timeout error\u001b[0m\u001b[0;34m\u001b[0m\u001b[0m\n",
      "\u001b[0;32m/Users/alex/anaconda/lib/python3.5/http/client.py\u001b[0m in \u001b[0;36mrequest\u001b[0;34m(self, method, url, body, headers)\u001b[0m\n\u001b[1;32m   1105\u001b[0m         \u001b[0;34m\"\"\"Send a complete request to the server.\"\"\"\u001b[0m\u001b[0;34m\u001b[0m\u001b[0m\n\u001b[0;32m-> 1106\u001b[0;31m         \u001b[0mself\u001b[0m\u001b[0;34m.\u001b[0m\u001b[0m_send_request\u001b[0m\u001b[0;34m(\u001b[0m\u001b[0mmethod\u001b[0m\u001b[0;34m,\u001b[0m \u001b[0murl\u001b[0m\u001b[0;34m,\u001b[0m \u001b[0mbody\u001b[0m\u001b[0;34m,\u001b[0m \u001b[0mheaders\u001b[0m\u001b[0;34m)\u001b[0m\u001b[0;34m\u001b[0m\u001b[0m\n\u001b[0m\u001b[1;32m   1107\u001b[0m \u001b[0;34m\u001b[0m\u001b[0m\n",
      "\u001b[0;32m/Users/alex/anaconda/lib/python3.5/http/client.py\u001b[0m in \u001b[0;36m_send_request\u001b[0;34m(self, method, url, body, headers)\u001b[0m\n\u001b[1;32m   1150\u001b[0m             \u001b[0mbody\u001b[0m \u001b[0;34m=\u001b[0m \u001b[0m_encode\u001b[0m\u001b[0;34m(\u001b[0m\u001b[0mbody\u001b[0m\u001b[0;34m,\u001b[0m \u001b[0;34m'body'\u001b[0m\u001b[0;34m)\u001b[0m\u001b[0;34m\u001b[0m\u001b[0m\n\u001b[0;32m-> 1151\u001b[0;31m         \u001b[0mself\u001b[0m\u001b[0;34m.\u001b[0m\u001b[0mendheaders\u001b[0m\u001b[0;34m(\u001b[0m\u001b[0mbody\u001b[0m\u001b[0;34m)\u001b[0m\u001b[0;34m\u001b[0m\u001b[0m\n\u001b[0m\u001b[1;32m   1152\u001b[0m \u001b[0;34m\u001b[0m\u001b[0m\n",
      "\u001b[0;32m/Users/alex/anaconda/lib/python3.5/http/client.py\u001b[0m in \u001b[0;36mendheaders\u001b[0;34m(self, message_body)\u001b[0m\n\u001b[1;32m   1101\u001b[0m             \u001b[0;32mraise\u001b[0m \u001b[0mCannotSendHeader\u001b[0m\u001b[0;34m(\u001b[0m\u001b[0;34m)\u001b[0m\u001b[0;34m\u001b[0m\u001b[0m\n\u001b[0;32m-> 1102\u001b[0;31m         \u001b[0mself\u001b[0m\u001b[0;34m.\u001b[0m\u001b[0m_send_output\u001b[0m\u001b[0;34m(\u001b[0m\u001b[0mmessage_body\u001b[0m\u001b[0;34m)\u001b[0m\u001b[0;34m\u001b[0m\u001b[0m\n\u001b[0m\u001b[1;32m   1103\u001b[0m \u001b[0;34m\u001b[0m\u001b[0m\n",
      "\u001b[0;32m/Users/alex/anaconda/lib/python3.5/http/client.py\u001b[0m in \u001b[0;36m_send_output\u001b[0;34m(self, message_body)\u001b[0m\n\u001b[1;32m    933\u001b[0m \u001b[0;34m\u001b[0m\u001b[0m\n\u001b[0;32m--> 934\u001b[0;31m         \u001b[0mself\u001b[0m\u001b[0;34m.\u001b[0m\u001b[0msend\u001b[0m\u001b[0;34m(\u001b[0m\u001b[0mmsg\u001b[0m\u001b[0;34m)\u001b[0m\u001b[0;34m\u001b[0m\u001b[0m\n\u001b[0m\u001b[1;32m    935\u001b[0m         \u001b[0;32mif\u001b[0m \u001b[0mmessage_body\u001b[0m \u001b[0;32mis\u001b[0m \u001b[0;32mnot\u001b[0m \u001b[0;32mNone\u001b[0m\u001b[0;34m:\u001b[0m\u001b[0;34m\u001b[0m\u001b[0m\n",
      "\u001b[0;32m/Users/alex/anaconda/lib/python3.5/http/client.py\u001b[0m in \u001b[0;36msend\u001b[0;34m(self, data)\u001b[0m\n\u001b[1;32m    876\u001b[0m             \u001b[0;32mif\u001b[0m \u001b[0mself\u001b[0m\u001b[0;34m.\u001b[0m\u001b[0mauto_open\u001b[0m\u001b[0;34m:\u001b[0m\u001b[0;34m\u001b[0m\u001b[0m\n\u001b[0;32m--> 877\u001b[0;31m                 \u001b[0mself\u001b[0m\u001b[0;34m.\u001b[0m\u001b[0mconnect\u001b[0m\u001b[0;34m(\u001b[0m\u001b[0;34m)\u001b[0m\u001b[0;34m\u001b[0m\u001b[0m\n\u001b[0m\u001b[1;32m    878\u001b[0m             \u001b[0;32melse\u001b[0m\u001b[0;34m:\u001b[0m\u001b[0;34m\u001b[0m\u001b[0m\n",
      "\u001b[0;32m/Users/alex/anaconda/lib/python3.5/http/client.py\u001b[0m in \u001b[0;36mconnect\u001b[0;34m(self)\u001b[0m\n\u001b[1;32m    848\u001b[0m         self.sock = self._create_connection(\n\u001b[0;32m--> 849\u001b[0;31m             (self.host,self.port), self.timeout, self.source_address)\n\u001b[0m\u001b[1;32m    850\u001b[0m         \u001b[0mself\u001b[0m\u001b[0;34m.\u001b[0m\u001b[0msock\u001b[0m\u001b[0;34m.\u001b[0m\u001b[0msetsockopt\u001b[0m\u001b[0;34m(\u001b[0m\u001b[0msocket\u001b[0m\u001b[0;34m.\u001b[0m\u001b[0mIPPROTO_TCP\u001b[0m\u001b[0;34m,\u001b[0m \u001b[0msocket\u001b[0m\u001b[0;34m.\u001b[0m\u001b[0mTCP_NODELAY\u001b[0m\u001b[0;34m,\u001b[0m \u001b[0;36m1\u001b[0m\u001b[0;34m)\u001b[0m\u001b[0;34m\u001b[0m\u001b[0m\n",
      "\u001b[0;32m/Users/alex/anaconda/lib/python3.5/socket.py\u001b[0m in \u001b[0;36mcreate_connection\u001b[0;34m(address, timeout, source_address)\u001b[0m\n\u001b[1;32m    692\u001b[0m     \u001b[0merr\u001b[0m \u001b[0;34m=\u001b[0m \u001b[0;32mNone\u001b[0m\u001b[0;34m\u001b[0m\u001b[0m\n\u001b[0;32m--> 693\u001b[0;31m     \u001b[0;32mfor\u001b[0m \u001b[0mres\u001b[0m \u001b[0;32min\u001b[0m \u001b[0mgetaddrinfo\u001b[0m\u001b[0;34m(\u001b[0m\u001b[0mhost\u001b[0m\u001b[0;34m,\u001b[0m \u001b[0mport\u001b[0m\u001b[0;34m,\u001b[0m \u001b[0;36m0\u001b[0m\u001b[0;34m,\u001b[0m \u001b[0mSOCK_STREAM\u001b[0m\u001b[0;34m)\u001b[0m\u001b[0;34m:\u001b[0m\u001b[0;34m\u001b[0m\u001b[0m\n\u001b[0m\u001b[1;32m    694\u001b[0m         \u001b[0maf\u001b[0m\u001b[0;34m,\u001b[0m \u001b[0msocktype\u001b[0m\u001b[0;34m,\u001b[0m \u001b[0mproto\u001b[0m\u001b[0;34m,\u001b[0m \u001b[0mcanonname\u001b[0m\u001b[0;34m,\u001b[0m \u001b[0msa\u001b[0m \u001b[0;34m=\u001b[0m \u001b[0mres\u001b[0m\u001b[0;34m\u001b[0m\u001b[0m\n",
      "\u001b[0;32m/Users/alex/anaconda/lib/python3.5/socket.py\u001b[0m in \u001b[0;36mgetaddrinfo\u001b[0;34m(host, port, family, type, proto, flags)\u001b[0m\n\u001b[1;32m    731\u001b[0m     \u001b[0maddrlist\u001b[0m \u001b[0;34m=\u001b[0m \u001b[0;34m[\u001b[0m\u001b[0;34m]\u001b[0m\u001b[0;34m\u001b[0m\u001b[0m\n\u001b[0;32m--> 732\u001b[0;31m     \u001b[0;32mfor\u001b[0m \u001b[0mres\u001b[0m \u001b[0;32min\u001b[0m \u001b[0m_socket\u001b[0m\u001b[0;34m.\u001b[0m\u001b[0mgetaddrinfo\u001b[0m\u001b[0;34m(\u001b[0m\u001b[0mhost\u001b[0m\u001b[0;34m,\u001b[0m \u001b[0mport\u001b[0m\u001b[0;34m,\u001b[0m \u001b[0mfamily\u001b[0m\u001b[0;34m,\u001b[0m \u001b[0mtype\u001b[0m\u001b[0;34m,\u001b[0m \u001b[0mproto\u001b[0m\u001b[0;34m,\u001b[0m \u001b[0mflags\u001b[0m\u001b[0;34m)\u001b[0m\u001b[0;34m:\u001b[0m\u001b[0;34m\u001b[0m\u001b[0m\n\u001b[0m\u001b[1;32m    733\u001b[0m         \u001b[0maf\u001b[0m\u001b[0;34m,\u001b[0m \u001b[0msocktype\u001b[0m\u001b[0;34m,\u001b[0m \u001b[0mproto\u001b[0m\u001b[0;34m,\u001b[0m \u001b[0mcanonname\u001b[0m\u001b[0;34m,\u001b[0m \u001b[0msa\u001b[0m \u001b[0;34m=\u001b[0m \u001b[0mres\u001b[0m\u001b[0;34m\u001b[0m\u001b[0m\n",
      "\u001b[0;31mgaierror\u001b[0m: [Errno 8] nodename nor servname provided, or not known",
      "\nDuring handling of the above exception, another exception occurred:\n",
      "\u001b[0;31mURLError\u001b[0m                                  Traceback (most recent call last)",
      "\u001b[0;32m<ipython-input-20-3f1d7d40954f>\u001b[0m in \u001b[0;36m<module>\u001b[0;34m()\u001b[0m\n\u001b[1;32m      5\u001b[0m \u001b[0;32mfrom\u001b[0m \u001b[0mBio\u001b[0m \u001b[0;32mimport\u001b[0m \u001b[0mSwissProt\u001b[0m\u001b[0;34m\u001b[0m\u001b[0m\n\u001b[1;32m      6\u001b[0m \u001b[0;34m\u001b[0m\u001b[0m\n\u001b[0;32m----> 7\u001b[0;31m \u001b[0mhandle\u001b[0m \u001b[0;34m=\u001b[0m \u001b[0mExPASy\u001b[0m\u001b[0;34m.\u001b[0m\u001b[0mget_sprot_raw\u001b[0m\u001b[0;34m(\u001b[0m\u001b[0;34m'A2Z669'\u001b[0m\u001b[0;34m)\u001b[0m\u001b[0;34m\u001b[0m\u001b[0m\n\u001b[0m\u001b[1;32m      8\u001b[0m \u001b[0mrecord\u001b[0m \u001b[0;34m=\u001b[0m \u001b[0mSwissProt\u001b[0m\u001b[0;34m.\u001b[0m\u001b[0mread\u001b[0m\u001b[0;34m(\u001b[0m\u001b[0mhandle\u001b[0m\u001b[0;34m)\u001b[0m\u001b[0;34m\u001b[0m\u001b[0m\n\u001b[1;32m      9\u001b[0m \u001b[0;34m\u001b[0m\u001b[0m\n",
      "\u001b[0;32m/Users/alex/anaconda/lib/python3.5/site-packages/Bio/ExPASy/__init__.py\u001b[0m in \u001b[0;36mget_sprot_raw\u001b[0;34m(id)\u001b[0m\n\u001b[1;32m     71\u001b[0m     \u001b[0;34m(\u001b[0m\u001b[0;32mas\u001b[0m \u001b[0mper\u001b[0m \u001b[0mthe\u001b[0m \u001b[0mhttp\u001b[0m\u001b[0;34m:\u001b[0m\u001b[0;34m//\u001b[0m\u001b[0mwww\u001b[0m\u001b[0;34m.\u001b[0m\u001b[0mexpasy\u001b[0m\u001b[0;34m.\u001b[0m\u001b[0mch\u001b[0m\u001b[0;34m/\u001b[0m\u001b[0mexpasy_urls\u001b[0m\u001b[0;34m.\u001b[0m\u001b[0mhtml\u001b[0m \u001b[0mdocumentation\u001b[0m\u001b[0;34m)\u001b[0m\u001b[0;34m.\u001b[0m\u001b[0;34m\u001b[0m\u001b[0m\n\u001b[1;32m     72\u001b[0m     \"\"\"\n\u001b[0;32m---> 73\u001b[0;31m     \u001b[0;32mreturn\u001b[0m \u001b[0m_urlopen\u001b[0m\u001b[0;34m(\u001b[0m\u001b[0;34m\"http://www.uniprot.org/uniprot/%s.txt\"\u001b[0m \u001b[0;34m%\u001b[0m \u001b[0mid\u001b[0m\u001b[0;34m)\u001b[0m\u001b[0;34m\u001b[0m\u001b[0m\n\u001b[0m\u001b[1;32m     74\u001b[0m \u001b[0;34m\u001b[0m\u001b[0m\n\u001b[1;32m     75\u001b[0m \u001b[0;34m\u001b[0m\u001b[0m\n",
      "\u001b[0;32m/Users/alex/anaconda/lib/python3.5/urllib/request.py\u001b[0m in \u001b[0;36murlopen\u001b[0;34m(url, data, timeout, cafile, capath, cadefault, context)\u001b[0m\n\u001b[1;32m    161\u001b[0m     \u001b[0;32melse\u001b[0m\u001b[0;34m:\u001b[0m\u001b[0;34m\u001b[0m\u001b[0m\n\u001b[1;32m    162\u001b[0m         \u001b[0mopener\u001b[0m \u001b[0;34m=\u001b[0m \u001b[0m_opener\u001b[0m\u001b[0;34m\u001b[0m\u001b[0m\n\u001b[0;32m--> 163\u001b[0;31m     \u001b[0;32mreturn\u001b[0m \u001b[0mopener\u001b[0m\u001b[0;34m.\u001b[0m\u001b[0mopen\u001b[0m\u001b[0;34m(\u001b[0m\u001b[0murl\u001b[0m\u001b[0;34m,\u001b[0m \u001b[0mdata\u001b[0m\u001b[0;34m,\u001b[0m \u001b[0mtimeout\u001b[0m\u001b[0;34m)\u001b[0m\u001b[0;34m\u001b[0m\u001b[0m\n\u001b[0m\u001b[1;32m    164\u001b[0m \u001b[0;34m\u001b[0m\u001b[0m\n\u001b[1;32m    165\u001b[0m \u001b[0;32mdef\u001b[0m \u001b[0minstall_opener\u001b[0m\u001b[0;34m(\u001b[0m\u001b[0mopener\u001b[0m\u001b[0;34m)\u001b[0m\u001b[0;34m:\u001b[0m\u001b[0;34m\u001b[0m\u001b[0m\n",
      "\u001b[0;32m/Users/alex/anaconda/lib/python3.5/urllib/request.py\u001b[0m in \u001b[0;36mopen\u001b[0;34m(self, fullurl, data, timeout)\u001b[0m\n\u001b[1;32m    464\u001b[0m             \u001b[0mreq\u001b[0m \u001b[0;34m=\u001b[0m \u001b[0mmeth\u001b[0m\u001b[0;34m(\u001b[0m\u001b[0mreq\u001b[0m\u001b[0;34m)\u001b[0m\u001b[0;34m\u001b[0m\u001b[0m\n\u001b[1;32m    465\u001b[0m \u001b[0;34m\u001b[0m\u001b[0m\n\u001b[0;32m--> 466\u001b[0;31m         \u001b[0mresponse\u001b[0m \u001b[0;34m=\u001b[0m \u001b[0mself\u001b[0m\u001b[0;34m.\u001b[0m\u001b[0m_open\u001b[0m\u001b[0;34m(\u001b[0m\u001b[0mreq\u001b[0m\u001b[0;34m,\u001b[0m \u001b[0mdata\u001b[0m\u001b[0;34m)\u001b[0m\u001b[0;34m\u001b[0m\u001b[0m\n\u001b[0m\u001b[1;32m    467\u001b[0m \u001b[0;34m\u001b[0m\u001b[0m\n\u001b[1;32m    468\u001b[0m         \u001b[0;31m# post-process response\u001b[0m\u001b[0;34m\u001b[0m\u001b[0;34m\u001b[0m\u001b[0m\n",
      "\u001b[0;32m/Users/alex/anaconda/lib/python3.5/urllib/request.py\u001b[0m in \u001b[0;36m_open\u001b[0;34m(self, req, data)\u001b[0m\n\u001b[1;32m    482\u001b[0m         \u001b[0mprotocol\u001b[0m \u001b[0;34m=\u001b[0m \u001b[0mreq\u001b[0m\u001b[0;34m.\u001b[0m\u001b[0mtype\u001b[0m\u001b[0;34m\u001b[0m\u001b[0m\n\u001b[1;32m    483\u001b[0m         result = self._call_chain(self.handle_open, protocol, protocol +\n\u001b[0;32m--> 484\u001b[0;31m                                   '_open', req)\n\u001b[0m\u001b[1;32m    485\u001b[0m         \u001b[0;32mif\u001b[0m \u001b[0mresult\u001b[0m\u001b[0;34m:\u001b[0m\u001b[0;34m\u001b[0m\u001b[0m\n\u001b[1;32m    486\u001b[0m             \u001b[0;32mreturn\u001b[0m \u001b[0mresult\u001b[0m\u001b[0;34m\u001b[0m\u001b[0m\n",
      "\u001b[0;32m/Users/alex/anaconda/lib/python3.5/urllib/request.py\u001b[0m in \u001b[0;36m_call_chain\u001b[0;34m(self, chain, kind, meth_name, *args)\u001b[0m\n\u001b[1;32m    442\u001b[0m         \u001b[0;32mfor\u001b[0m \u001b[0mhandler\u001b[0m \u001b[0;32min\u001b[0m \u001b[0mhandlers\u001b[0m\u001b[0;34m:\u001b[0m\u001b[0;34m\u001b[0m\u001b[0m\n\u001b[1;32m    443\u001b[0m             \u001b[0mfunc\u001b[0m \u001b[0;34m=\u001b[0m \u001b[0mgetattr\u001b[0m\u001b[0;34m(\u001b[0m\u001b[0mhandler\u001b[0m\u001b[0;34m,\u001b[0m \u001b[0mmeth_name\u001b[0m\u001b[0;34m)\u001b[0m\u001b[0;34m\u001b[0m\u001b[0m\n\u001b[0;32m--> 444\u001b[0;31m             \u001b[0mresult\u001b[0m \u001b[0;34m=\u001b[0m \u001b[0mfunc\u001b[0m\u001b[0;34m(\u001b[0m\u001b[0;34m*\u001b[0m\u001b[0margs\u001b[0m\u001b[0;34m)\u001b[0m\u001b[0;34m\u001b[0m\u001b[0m\n\u001b[0m\u001b[1;32m    445\u001b[0m             \u001b[0;32mif\u001b[0m \u001b[0mresult\u001b[0m \u001b[0;32mis\u001b[0m \u001b[0;32mnot\u001b[0m \u001b[0;32mNone\u001b[0m\u001b[0;34m:\u001b[0m\u001b[0;34m\u001b[0m\u001b[0m\n\u001b[1;32m    446\u001b[0m                 \u001b[0;32mreturn\u001b[0m \u001b[0mresult\u001b[0m\u001b[0;34m\u001b[0m\u001b[0m\n",
      "\u001b[0;32m/Users/alex/anaconda/lib/python3.5/urllib/request.py\u001b[0m in \u001b[0;36mhttp_open\u001b[0;34m(self, req)\u001b[0m\n\u001b[1;32m   1280\u001b[0m \u001b[0;34m\u001b[0m\u001b[0m\n\u001b[1;32m   1281\u001b[0m     \u001b[0;32mdef\u001b[0m \u001b[0mhttp_open\u001b[0m\u001b[0;34m(\u001b[0m\u001b[0mself\u001b[0m\u001b[0;34m,\u001b[0m \u001b[0mreq\u001b[0m\u001b[0;34m)\u001b[0m\u001b[0;34m:\u001b[0m\u001b[0;34m\u001b[0m\u001b[0m\n\u001b[0;32m-> 1282\u001b[0;31m         \u001b[0;32mreturn\u001b[0m \u001b[0mself\u001b[0m\u001b[0;34m.\u001b[0m\u001b[0mdo_open\u001b[0m\u001b[0;34m(\u001b[0m\u001b[0mhttp\u001b[0m\u001b[0;34m.\u001b[0m\u001b[0mclient\u001b[0m\u001b[0;34m.\u001b[0m\u001b[0mHTTPConnection\u001b[0m\u001b[0;34m,\u001b[0m \u001b[0mreq\u001b[0m\u001b[0;34m)\u001b[0m\u001b[0;34m\u001b[0m\u001b[0m\n\u001b[0m\u001b[1;32m   1283\u001b[0m \u001b[0;34m\u001b[0m\u001b[0m\n\u001b[1;32m   1284\u001b[0m     \u001b[0mhttp_request\u001b[0m \u001b[0;34m=\u001b[0m \u001b[0mAbstractHTTPHandler\u001b[0m\u001b[0;34m.\u001b[0m\u001b[0mdo_request_\u001b[0m\u001b[0;34m\u001b[0m\u001b[0m\n",
      "\u001b[0;32m/Users/alex/anaconda/lib/python3.5/urllib/request.py\u001b[0m in \u001b[0;36mdo_open\u001b[0;34m(self, http_class, req, **http_conn_args)\u001b[0m\n\u001b[1;32m   1254\u001b[0m                 \u001b[0mh\u001b[0m\u001b[0;34m.\u001b[0m\u001b[0mrequest\u001b[0m\u001b[0;34m(\u001b[0m\u001b[0mreq\u001b[0m\u001b[0;34m.\u001b[0m\u001b[0mget_method\u001b[0m\u001b[0;34m(\u001b[0m\u001b[0;34m)\u001b[0m\u001b[0;34m,\u001b[0m \u001b[0mreq\u001b[0m\u001b[0;34m.\u001b[0m\u001b[0mselector\u001b[0m\u001b[0;34m,\u001b[0m \u001b[0mreq\u001b[0m\u001b[0;34m.\u001b[0m\u001b[0mdata\u001b[0m\u001b[0;34m,\u001b[0m \u001b[0mheaders\u001b[0m\u001b[0;34m)\u001b[0m\u001b[0;34m\u001b[0m\u001b[0m\n\u001b[1;32m   1255\u001b[0m             \u001b[0;32mexcept\u001b[0m \u001b[0mOSError\u001b[0m \u001b[0;32mas\u001b[0m \u001b[0merr\u001b[0m\u001b[0;34m:\u001b[0m \u001b[0;31m# timeout error\u001b[0m\u001b[0;34m\u001b[0m\u001b[0m\n\u001b[0;32m-> 1256\u001b[0;31m                 \u001b[0;32mraise\u001b[0m \u001b[0mURLError\u001b[0m\u001b[0;34m(\u001b[0m\u001b[0merr\u001b[0m\u001b[0;34m)\u001b[0m\u001b[0;34m\u001b[0m\u001b[0m\n\u001b[0m\u001b[1;32m   1257\u001b[0m             \u001b[0mr\u001b[0m \u001b[0;34m=\u001b[0m \u001b[0mh\u001b[0m\u001b[0;34m.\u001b[0m\u001b[0mgetresponse\u001b[0m\u001b[0;34m(\u001b[0m\u001b[0;34m)\u001b[0m\u001b[0;34m\u001b[0m\u001b[0m\n\u001b[1;32m   1258\u001b[0m         \u001b[0;32mexcept\u001b[0m\u001b[0;34m:\u001b[0m\u001b[0;34m\u001b[0m\u001b[0m\n",
      "\u001b[0;31mURLError\u001b[0m: <urlopen error [Errno 8] nodename nor servname provided, or not known>"
     ]
    }
   ],
   "source": [
    "# def mprt(str_in):\n",
    "#     pass\n",
    "\n",
    "from Bio import ExPASy\n",
    "from Bio import SwissProt\n",
    "\n",
    "handle = ExPASy.get_sprot_raw('A2Z669')\n",
    "record = SwissProt.read(handle)\n",
    "\n",
    "    \n",
    "# mprt('input')"
   ]
  },
  {
   "cell_type": "code",
   "execution_count": 52,
   "metadata": {
    "collapsed": false
   },
   "outputs": [
    {
     "data": {
      "text/plain": [
       "(203, 20439, 'B8FDFF1EFFF554B7')"
      ]
     },
     "execution_count": 52,
     "metadata": {},
     "output_type": "execute_result"
    }
   ],
   "source": [
    "record."
   ]
  },
  {
   "cell_type": "markdown",
   "metadata": {},
   "source": [
    "         \n",
    "### MRNA: Inferring mRNA from Protein     "
   ]
  },
  {
   "cell_type": "code",
   "execution_count": 19,
   "metadata": {
    "collapsed": false
   },
   "outputs": [
    {
     "data": {
      "text/plain": [
       "12"
      ]
     },
     "execution_count": 19,
     "metadata": {},
     "output_type": "execute_result"
    },
    {
     "ename": "FileNotFoundError",
     "evalue": "[Errno 2] No such file or directory: 'rosalind_mrna.txt'",
     "output_type": "error",
     "traceback": [
      "\u001b[0;31m---------------------------------------------------------------------------\u001b[0m",
      "\u001b[0;31mFileNotFoundError\u001b[0m                         Traceback (most recent call last)",
      "\u001b[0;32m<ipython-input-19-f9f1c0e1684c>\u001b[0m in \u001b[0;36m<module>\u001b[0;34m()\u001b[0m\n\u001b[1;32m     13\u001b[0m \u001b[0;34m\u001b[0m\u001b[0m\n\u001b[1;32m     14\u001b[0m \u001b[0mmrna\u001b[0m\u001b[0;34m(\u001b[0m\u001b[0;34m'MA'\u001b[0m\u001b[0;34m)\u001b[0m\u001b[0;34m\u001b[0m\u001b[0m\n\u001b[0;32m---> 15\u001b[0;31m \u001b[0mmrna\u001b[0m\u001b[0;34m(\u001b[0m\u001b[0mread_dataset_str\u001b[0m\u001b[0;34m(\u001b[0m\u001b[0;34m'mrna'\u001b[0m\u001b[0;34m)\u001b[0m\u001b[0;34m)\u001b[0m\u001b[0;34m\u001b[0m\u001b[0m\n\u001b[0m",
      "\u001b[0;32m<ipython-input-18-32800bcc9902>\u001b[0m in \u001b[0;36mread_dataset_str\u001b[0;34m(task_shortcut)\u001b[0m\n\u001b[1;32m      5\u001b[0m     \u001b[0;34m'''Returns a string.'''\u001b[0m\u001b[0;34m\u001b[0m\u001b[0m\n\u001b[1;32m      6\u001b[0m     \u001b[0mfilename\u001b[0m \u001b[0;34m=\u001b[0m \u001b[0;34m'rosalind_{}.txt'\u001b[0m\u001b[0;34m.\u001b[0m\u001b[0mformat\u001b[0m\u001b[0;34m(\u001b[0m\u001b[0mtask_shortcut\u001b[0m\u001b[0;34m)\u001b[0m\u001b[0;34m\u001b[0m\u001b[0m\n\u001b[0;32m----> 7\u001b[0;31m     \u001b[0;32mwith\u001b[0m \u001b[0mopen\u001b[0m\u001b[0;34m(\u001b[0m\u001b[0mfilename\u001b[0m\u001b[0;34m)\u001b[0m \u001b[0;32mas\u001b[0m \u001b[0minf\u001b[0m\u001b[0;34m:\u001b[0m\u001b[0;34m\u001b[0m\u001b[0m\n\u001b[0m\u001b[1;32m      8\u001b[0m         \u001b[0;32mreturn\u001b[0m \u001b[0;34m[\u001b[0m\u001b[0mi\u001b[0m\u001b[0;34m.\u001b[0m\u001b[0mstrip\u001b[0m\u001b[0;34m(\u001b[0m\u001b[0;34m)\u001b[0m \u001b[0;32mfor\u001b[0m \u001b[0mi\u001b[0m \u001b[0;32min\u001b[0m \u001b[0minf\u001b[0m\u001b[0;34m.\u001b[0m\u001b[0mreadlines\u001b[0m\u001b[0;34m(\u001b[0m\u001b[0;34m)\u001b[0m\u001b[0;34m]\u001b[0m\u001b[0;34m[\u001b[0m\u001b[0;36m0\u001b[0m\u001b[0;34m]\u001b[0m\u001b[0;34m\u001b[0m\u001b[0m\n\u001b[1;32m      9\u001b[0m \u001b[0;34m\u001b[0m\u001b[0m\n",
      "\u001b[0;31mFileNotFoundError\u001b[0m: [Errno 2] No such file or directory: 'rosalind_mrna.txt'"
     ]
    }
   ],
   "source": [
    "from collections import defaultdict\n",
    "\n",
    "def mrna(protein):\n",
    "    codon_table = {'UUU':'F', 'CUU':'L', 'AUU':'I', 'GUU':'V', 'UUC':'F', 'CUC':'L', 'AUC':'I', 'GUC':'V', 'UUA':'L', 'CUA':'L', 'AUA':'I', 'GUA':'V', 'UUG':'L', 'CUG':'L', 'AUG':'M', 'GUG':'V', 'UCU':'S', 'CCU':'P', 'ACU':'T', 'GCU':'A', 'UCC':'S', 'CCC':'P', 'ACC':'T', 'GCC':'A', 'UCA':'S', 'CCA':'P', 'ACA':'T', 'GCA':'A', 'UCG':'S', 'CCG':'P', 'ACG':'T', 'GCG':'A', 'UAU':'Y', 'CAU':'H', 'AAU':'N', 'GAU':'D', 'UAC':'Y', 'CAC':'H', 'AAC':'N', 'GAC':'D', 'UAA':'Stop', 'CAA':'Q', 'AAA':'K', 'GAA':'E', 'UAG':'Stop', 'CAG':'Q', 'AAG':'K', 'GAG':'E', 'UGU':'C', 'CGU':'R', 'AGU':'S', 'GGU':'G', 'UGC':'C', 'CGC':'R', 'AGC':'S', 'GGC':'G', 'UGA':'Stop', 'CGA':'R', 'AGA':'R', 'GGA':'G', 'UGG':'W', 'CGG':'R', 'AGG':'R', 'GGG':'G'}\n",
    "    no_of_codons = defaultdict(int)\n",
    "    for value in codon_table.values():\n",
    "        no_of_codons[value] += 1\n",
    "    \n",
    "    mult = 3\n",
    "    for i in protein:\n",
    "        mult *= no_of_codons[i]\n",
    "    return mult\n",
    "\n",
    "mrna('MA')\n",
    "mrna(read_dataset_str('mrna'))"
   ]
  },
  {
   "cell_type": "markdown",
   "metadata": {},
   "source": [
    "         \n",
    "### PERM: Enumerating Gene Orders     "
   ]
  },
  {
   "cell_type": "code",
   "execution_count": 46,
   "metadata": {
    "collapsed": false,
    "scrolled": false
   },
   "outputs": [],
   "source": [
    "from itertools import permutations\n",
    "\n",
    "def perm(int_in):\n",
    "    int_in = int(int_in)\n",
    "    lst_numb = list(range(1, int_in + 1))\n",
    "    lst_perm = list(permutations(lst_numb, int_in))\n",
    "    with open('output', 'w') as ouf:\n",
    "        ouf.write('{}\\n'.format(str(len(lst_perm))))\n",
    "        for i in lst_perm:\n",
    "            ouf.write(' '.join(map(str, i)))\n",
    "            ouf.write('\\n')\n",
    "\n",
    "# perm(3)\n",
    "perm(read_dataset_str('perm'))"
   ]
  },
  {
   "cell_type": "markdown",
   "metadata": {},
   "source": [
    "         \n",
    "### PRTM: Calculating Protein Mass"
   ]
  },
  {
   "cell_type": "code",
   "execution_count": 3,
   "metadata": {
    "collapsed": false
   },
   "outputs": [
    {
     "data": {
      "text/plain": [
       "102578.929"
      ]
     },
     "execution_count": 3,
     "metadata": {},
     "output_type": "execute_result"
    }
   ],
   "source": [
    "def prtm(protein):\n",
    "    s = \"\"\"A=71.03711;C=103.00919;D=115.02694;E=129.04259;F=147.06841;G=57.02146;H=137.05891;I=113.08406;K=128.09496;L=113.08406;M=131.04049;N=114.04293;P=97.05276;Q=128.05858;R=156.10111;S=87.03203;T=101.04768;V=99.06841;W=186.07931;Y=163.06333\"\"\"\n",
    "    mass_table = dict(item.split('=') for item in s.split(';'))\n",
    "    mass = sum(float(mass_table.get(aa, 0.0)) for aa in protein)\n",
    "    return round(mass, 3)\n",
    "\n",
    "# prtm('SKADYEK')\n",
    "prtm(read_dataset_str('prtm'))"
   ]
  },
  {
   "cell_type": "markdown",
   "metadata": {},
   "source": [
    "### LCSM: Finding a Shared Motif     "
   ]
  },
  {
   "cell_type": "markdown",
   "metadata": {},
   "source": [
    "### LIA: Independent Alleles"
   ]
  },
  {
   "cell_type": "markdown",
   "metadata": {},
   "source": [
    "         \n",
    "### ORF: Open Reading Frames"
   ]
  }
 ],
 "metadata": {
  "kernelspec": {
   "display_name": "Python 3",
   "language": "python",
   "name": "python3"
  },
  "language_info": {
   "codemirror_mode": {
    "name": "ipython",
    "version": 3
   },
   "file_extension": ".py",
   "mimetype": "text/x-python",
   "name": "python",
   "nbconvert_exporter": "python",
   "pygments_lexer": "ipython3",
   "version": "3.5.2"
  }
 },
 "nbformat": 4,
 "nbformat_minor": 0
}
