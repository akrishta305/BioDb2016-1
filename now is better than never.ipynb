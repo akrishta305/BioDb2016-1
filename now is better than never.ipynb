{
 "cells": [
  {
   "cell_type": "markdown",
   "metadata": {},
   "source": [
    "# Now is better than never"
   ]
  },
  {
   "cell_type": "markdown",
   "metadata": {},
   "source": [
    "- Don't spend too much time planning and pre-optimising"
   ]
  },
  {
   "cell_type": "code",
   "execution_count": 1,
   "metadata": {
    "collapsed": true
   },
   "outputs": [],
   "source": [
    "import networkx as nx\n",
    "%matplotlib inline"
   ]
  },
  {
   "cell_type": "code",
   "execution_count": 2,
   "metadata": {
    "collapsed": true
   },
   "outputs": [],
   "source": [
    "def bel2dict(statement):\n",
    "    pattern_def = '^(?P<subject_activity>\\w+)*\\(*(?P<subject_abundance_type>\\w+)\\((?P<subject_namespace>\\w+)\\:(?P<subject_protein>\\w+)\\)\\)*\\s+(?P<relation_type>[\\w\\W]+)\\s+(?P<object_activity>\\w+)*\\(*(?P<object_abundance_type>\\w+)\\((?P<object_namespace>\\w+)\\:(?P<object_protein>\\w+)\\)\\)*$'\n",
    "    pattern = re.compile(pattern_def)\n",
    "    if pattern.match(statement) is not None:\n",
    "        dct_regex_eval = pattern.match(statement).groupdict()\n",
    "        return dct_regex_eval"
   ]
  },
  {
   "cell_type": "code",
   "execution_count": 3,
   "metadata": {
    "collapsed": true
   },
   "outputs": [],
   "source": [
    "statements_to_graph = [\n",
    "    'kin(p(HGNC:PIK3CA)) increases p(HGNC:AKT1)',\n",
    "    'kin(p(HGNC:PIK3CA)) increases p(HGNC:AKT2)',\n",
    "    'kin(p(HGNC:PIK3CA)) increases p(HGNC:AKT1)',\n",
    "    'p(HGNC:AKT1) positiveCorrelation p(HGNC:AKT2)',\n",
    "    'p(HGNC:AKT2) increases p(HGNC:GSK3B)',\n",
    "]"
   ]
  },
  {
   "cell_type": "code",
   "execution_count": 4,
   "metadata": {
    "collapsed": false
   },
   "outputs": [
    {
     "ename": "NameError",
     "evalue": "name 're' is not defined",
     "output_type": "error",
     "traceback": [
      "\u001b[0;31m---------------------------------------------------------------------------\u001b[0m",
      "\u001b[0;31mNameError\u001b[0m                                 Traceback (most recent call last)",
      "\u001b[0;32m<ipython-input-4-34f36d0d90a8>\u001b[0m in \u001b[0;36m<module>\u001b[0;34m()\u001b[0m\n\u001b[1;32m      1\u001b[0m \u001b[0mdg_bel\u001b[0m \u001b[0;34m=\u001b[0m \u001b[0mnx\u001b[0m\u001b[0;34m.\u001b[0m\u001b[0mDiGraph\u001b[0m\u001b[0;34m(\u001b[0m\u001b[0;34m)\u001b[0m\u001b[0;34m\u001b[0m\u001b[0m\n\u001b[1;32m      2\u001b[0m \u001b[0;32mfor\u001b[0m \u001b[0mstatement\u001b[0m \u001b[0;32min\u001b[0m \u001b[0mstatements_to_graph\u001b[0m\u001b[0;34m:\u001b[0m\u001b[0;34m\u001b[0m\u001b[0m\n\u001b[0;32m----> 3\u001b[0;31m     \u001b[0mcurrent_dct\u001b[0m \u001b[0;34m=\u001b[0m \u001b[0mbel2dict\u001b[0m\u001b[0;34m(\u001b[0m\u001b[0mstatement\u001b[0m\u001b[0;34m)\u001b[0m\u001b[0;34m\u001b[0m\u001b[0m\n\u001b[0m\u001b[1;32m      4\u001b[0m     \u001b[0;32mfor\u001b[0m \u001b[0mi\u001b[0m \u001b[0;32min\u001b[0m \u001b[0;34m[\u001b[0m\u001b[0;34m'subject'\u001b[0m\u001b[0;34m,\u001b[0m \u001b[0;34m'object'\u001b[0m\u001b[0;34m]\u001b[0m\u001b[0;34m:\u001b[0m\u001b[0;34m\u001b[0m\u001b[0m\n\u001b[1;32m      5\u001b[0m         \u001b[0mdg_bel\u001b[0m\u001b[0;34m.\u001b[0m\u001b[0madd_node\u001b[0m\u001b[0;34m(\u001b[0m\u001b[0mcurrent_dct\u001b[0m\u001b[0;34m[\u001b[0m\u001b[0;34m'{}_protein'\u001b[0m\u001b[0;34m.\u001b[0m\u001b[0mformat\u001b[0m\u001b[0;34m(\u001b[0m\u001b[0mi\u001b[0m\u001b[0;34m)\u001b[0m\u001b[0;34m]\u001b[0m\u001b[0;34m,\u001b[0m\u001b[0mactivity\u001b[0m\u001b[0;34m=\u001b[0m\u001b[0mcurrent_dct\u001b[0m\u001b[0;34m[\u001b[0m\u001b[0;34m'{}_activity'\u001b[0m\u001b[0;34m.\u001b[0m\u001b[0mformat\u001b[0m\u001b[0;34m(\u001b[0m\u001b[0mi\u001b[0m\u001b[0;34m)\u001b[0m\u001b[0;34m]\u001b[0m\u001b[0;34m,\u001b[0m\u001b[0mab_type\u001b[0m\u001b[0;34m=\u001b[0m\u001b[0mcurrent_dct\u001b[0m\u001b[0;34m[\u001b[0m\u001b[0;34m'{}_abundance_type'\u001b[0m\u001b[0;34m.\u001b[0m\u001b[0mformat\u001b[0m\u001b[0;34m(\u001b[0m\u001b[0mi\u001b[0m\u001b[0;34m)\u001b[0m\u001b[0;34m]\u001b[0m\u001b[0;34m)\u001b[0m\u001b[0;34m\u001b[0m\u001b[0m\n",
      "\u001b[0;32m<ipython-input-2-2121c79d8151>\u001b[0m in \u001b[0;36mbel2dict\u001b[0;34m(statement)\u001b[0m\n\u001b[1;32m      1\u001b[0m \u001b[0;32mdef\u001b[0m \u001b[0mbel2dict\u001b[0m\u001b[0;34m(\u001b[0m\u001b[0mstatement\u001b[0m\u001b[0;34m)\u001b[0m\u001b[0;34m:\u001b[0m\u001b[0;34m\u001b[0m\u001b[0m\n\u001b[1;32m      2\u001b[0m     \u001b[0mpattern_def\u001b[0m \u001b[0;34m=\u001b[0m \u001b[0;34m'^(?P<subject_activity>\\w+)*\\(*(?P<subject_abundance_type>\\w+)\\((?P<subject_namespace>\\w+)\\:(?P<subject_protein>\\w+)\\)\\)*\\s+(?P<relation_type>[\\w\\W]+)\\s+(?P<object_activity>\\w+)*\\(*(?P<object_abundance_type>\\w+)\\((?P<object_namespace>\\w+)\\:(?P<object_protein>\\w+)\\)\\)*$'\u001b[0m\u001b[0;34m\u001b[0m\u001b[0m\n\u001b[0;32m----> 3\u001b[0;31m     \u001b[0mpattern\u001b[0m \u001b[0;34m=\u001b[0m \u001b[0mre\u001b[0m\u001b[0;34m.\u001b[0m\u001b[0mcompile\u001b[0m\u001b[0;34m(\u001b[0m\u001b[0mpattern_def\u001b[0m\u001b[0;34m)\u001b[0m\u001b[0;34m\u001b[0m\u001b[0m\n\u001b[0m\u001b[1;32m      4\u001b[0m     \u001b[0;32mif\u001b[0m \u001b[0mpattern\u001b[0m\u001b[0;34m.\u001b[0m\u001b[0mmatch\u001b[0m\u001b[0;34m(\u001b[0m\u001b[0mstatement\u001b[0m\u001b[0;34m)\u001b[0m \u001b[0;32mis\u001b[0m \u001b[0;32mnot\u001b[0m \u001b[0;32mNone\u001b[0m\u001b[0;34m:\u001b[0m\u001b[0;34m\u001b[0m\u001b[0m\n\u001b[1;32m      5\u001b[0m         \u001b[0mdct_regex_eval\u001b[0m \u001b[0;34m=\u001b[0m \u001b[0mpattern\u001b[0m\u001b[0;34m.\u001b[0m\u001b[0mmatch\u001b[0m\u001b[0;34m(\u001b[0m\u001b[0mstatement\u001b[0m\u001b[0;34m)\u001b[0m\u001b[0;34m.\u001b[0m\u001b[0mgroupdict\u001b[0m\u001b[0;34m(\u001b[0m\u001b[0;34m)\u001b[0m\u001b[0;34m\u001b[0m\u001b[0m\n",
      "\u001b[0;31mNameError\u001b[0m: name 're' is not defined"
     ]
    }
   ],
   "source": [
    "dg_bel = nx.DiGraph()\n",
    "for statement in statements_to_graph:\n",
    "    current_dct = bel2dict(statement)\n",
    "    for i in ['subject', 'object']:\n",
    "        dg_bel.add_node(current_dct['{}_protein'.format(i)],activity=current_dct['{}_activity'.format(i)],ab_type=current_dct['{}_abundance_type'.format(i)])\n",
    "    dg_bel.add_edge(current_dct['subject_protein'], current_dct['object_protein'], relation=current_dct['relation_type'])"
   ]
  },
  {
   "cell_type": "code",
   "execution_count": null,
   "metadata": {
    "collapsed": true
   },
   "outputs": [],
   "source": [
    "nx.draw(dg_bel, with_labels=True)"
   ]
  }
 ],
 "metadata": {
  "kernelspec": {
   "display_name": "Python 3",
   "language": "python",
   "name": "python3"
  },
  "language_info": {
   "codemirror_mode": {
    "name": "ipython",
    "version": 3
   },
   "file_extension": ".py",
   "mimetype": "text/x-python",
   "name": "python",
   "nbconvert_exporter": "python",
   "pygments_lexer": "ipython3",
   "version": "3.5.2"
  }
 },
 "nbformat": 4,
 "nbformat_minor": 0
}
