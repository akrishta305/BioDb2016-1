{
 "cells": [
  {
   "cell_type": "markdown",
   "metadata": {},
   "source": [
    "# Now is better than never"
   ]
  },
  {
   "cell_type": "markdown",
   "metadata": {},
   "source": [
    "- Don't spend too much time planning and pre-optimising"
   ]
  },
  {
   "cell_type": "code",
   "execution_count": 1,
   "metadata": {
    "collapsed": true
   },
   "outputs": [],
   "source": [
    "import networkx as nx\n",
    "import re\n",
    "%matplotlib inline"
   ]
  },
  {
   "cell_type": "code",
   "execution_count": 2,
   "metadata": {
    "collapsed": true
   },
   "outputs": [],
   "source": [
    "def bel2dict(statement):\n",
    "    pattern_def = '^(?P<subject_activity>\\w+)*\\(*(?P<subject_abundance_type>\\w+)\\((?P<subject_namespace>\\w+)\\:(?P<subject_protein>\\w+)\\)\\)*\\s+(?P<relation_type>[\\w\\W]+)\\s+(?P<object_activity>\\w+)*\\(*(?P<object_abundance_type>\\w+)\\((?P<object_namespace>\\w+)\\:(?P<object_protein>\\w+)\\)\\)*$'\n",
    "    pattern = re.compile(pattern_def)\n",
    "    if pattern.match(statement) is not None:\n",
    "        dct_regex_eval = pattern.match(statement).groupdict()\n",
    "        return dct_regex_eval"
   ]
  },
  {
   "cell_type": "code",
   "execution_count": 3,
   "metadata": {
    "collapsed": true
   },
   "outputs": [],
   "source": [
    "statements_to_graph = [\n",
    "    'kin(p(HGNC:PIK3CA)) increases p(HGNC:AKT1)',\n",
    "    'kin(p(HGNC:PIK3CA)) increases p(HGNC:AKT2)',\n",
    "    'kin(p(HGNC:PIK3CA)) increases p(HGNC:AKT1)',\n",
    "    'p(HGNC:AKT1) positiveCorrelation p(HGNC:AKT2)',\n",
    "    'p(HGNC:AKT2) increases p(HGNC:GSK3B)',\n",
    "]"
   ]
  },
  {
   "cell_type": "code",
   "execution_count": 4,
   "metadata": {
    "collapsed": false
   },
   "outputs": [],
   "source": [
    "dg_bel = nx.DiGraph()\n",
    "for statement in statements_to_graph:\n",
    "    current_dct = bel2dict(statement)\n",
    "    for i in ['subject', 'object']:\n",
    "        dg_bel.add_node(current_dct['{}_protein'.format(i)],activity=current_dct['{}_activity'.format(i)],ab_type=current_dct['{}_abundance_type'.format(i)])\n",
    "    dg_bel.add_edge(current_dct['subject_protein'], current_dct['object_protein'], relation=current_dct['relation_type'])"
   ]
  },
  {
   "cell_type": "code",
   "execution_count": 5,
   "metadata": {
    "collapsed": false
   },
   "outputs": [
    {
     "data": {
      "image/png": "[encoded data removed]",
      "text/plain": [
       "<matplotlib.figure.Figure at 0x10b302470>"
      ]
     },
     "metadata": {},
     "output_type": "display_data"
    }
   ],
   "source": [
    "nx.draw(dg_bel, with_labels=True)"
   ]
  }
 ],
 "metadata": {
  "kernelspec": {
   "display_name": "Python 3",
   "language": "python",
   "name": "python3"
  },
  "language_info": {
   "codemirror_mode": {
    "name": "ipython",
    "version": 3
   },
   "file_extension": ".py",
   "mimetype": "text/x-python",
   "name": "python",
   "nbconvert_exporter": "python",
   "pygments_lexer": "ipython3",
   "version": "3.5.2"
  }
 },
 "nbformat": 4,
 "nbformat_minor": 0
}
