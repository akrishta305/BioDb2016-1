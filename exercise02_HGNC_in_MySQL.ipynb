{
 "cells": [
  {
   "cell_type": "markdown",
   "metadata": {},
   "source": [
    "# <a name=\"top\">Exercise 2: HGNC and MySQL</span>"
   ]
  },
  {
   "cell_type": "markdown",
   "metadata": {},
   "source": [
    "## Table of content\n",
    "0. <a href=\"#import_and_preparations\">Imports and preparations</a>\n",
    "0. <a href=\"#problem\">Defining the problem</a>\n",
    "0. <a href=\"#objective\">Objective</a>\n",
    "0. <a href=\"#tasks_in_general\">Tasks in general</a>\n",
    "0. <a href=\"#tasks\">Tasks</a>\n",
    "0. <a href=\"#problem\">Defining the problem</a>"
   ]
  },
  {
   "cell_type": "markdown",
   "metadata": {},
   "source": [
    "SQLite often used on mobile phones; for small solutions and for teaching"
   ]
  },
  {
   "cell_type": "markdown",
   "metadata": {},
   "source": [
    "## <a id=\"import_and_preparations\">Imports and preparations</a>"
   ]
  },
  {
   "cell_type": "code",
   "execution_count": 1,
   "metadata": {
    "collapsed": true
   },
   "outputs": [],
   "source": [
    "from IPython.core.interactiveshell import InteractiveShell\n",
    "InteractiveShell.ast_node_interactivity = \"all\""
   ]
  },
  {
   "cell_type": "code",
   "execution_count": 2,
   "metadata": {
    "collapsed": true
   },
   "outputs": [],
   "source": [
    "import pandas as pd\n",
    "import os\n",
    "import json\n",
    "import pymysql\n",
    "import re\n",
    "base = os.path.join(os.environ['BUG_FREE_EUREKA_BASE'])\n",
    "%matplotlib inline"
   ]
  },
  {
   "cell_type": "code",
   "execution_count": 3,
   "metadata": {
    "collapsed": false
   },
   "outputs": [],
   "source": [
    "pathToFile = os.path.join(base,'data','exercise05','nodes_in_Alzheimer_BEL_disease_network.tsv')\n",
    "df = pd.read_table(pathToFile)"
   ]
  },
  {
   "cell_type": "markdown",
   "metadata": {},
   "source": [
    "## <a id=\"problem\">Defining the problem</a>\n",
    "We have already loaded a list of biological entities in the context of Alzheimer's disease in a pandas `DataFrame`. The column **`value`** identifies in this `DataFrame` biological entities in specific namespace (stored in the column `namespace`). **`namespace`** and **`value`** together are a ***unique identifier*** for the entities. \n",
    "\n",
    "One of the most used namespaces in our dataset is HGNC. The HGNC database is maintained by the HUGO  Gene Nomenclature Committee and stores approved gene names, symbols (short-form abbreviation, column our `value`) and addtional information about genes.\n",
    "\n",
    "OK, even we have now a clear identify with the short name in our `DataFrame`: But do you know the recommended names of these short names, to which gene family they belong or the gene ID from NCBI?"
   ]
  },
  {
   "cell_type": "code",
   "execution_count": 4,
   "metadata": {
    "collapsed": false
   },
   "outputs": [
    {
     "data": {
      "text/plain": [
       "['BACE1',\n",
       " 'APP',\n",
       " 'CLSTN1',\n",
       " 'KLC1',\n",
       " 'PSEN1',\n",
       " 'NCSTN',\n",
       " 'APH1A',\n",
       " 'PSEN2',\n",
       " 'ARRB2',\n",
       " 'GPR3']"
      ]
     },
     "execution_count": 4,
     "metadata": {},
     "output_type": "execute_result"
    }
   ],
   "source": [
    "list(df[(df.namespace=='HGNC')].value[:10])"
   ]
  },
  {
   "cell_type": "markdown",
   "metadata": {},
   "source": [
    " Ice cream for all if you can give me all recommended names (without any further search)!"
   ]
  },
  {
   "cell_type": "markdown",
   "metadata": {},
   "source": [
    "## <a id=\"objective\">Objective</a>\n",
    "+ Find new insights into Alzheimer's disease by analysing the information about genes"
   ]
  },
  {
   "cell_type": "markdown",
   "metadata": {},
   "source": [
    "## <a id=\"tasks_in_general\">Tasks in general</a>"
   ]
  },
  {
   "cell_type": "markdown",
   "metadata": {},
   "source": [
    "   0. Analyse the JSON file, find a way to automatically scan the whole json for datatypes\n",
    "   0. Connect to MySQL, create database\n",
    "   0. Create appropriate tables in MySQL database\n",
    "   0. Store the data in the database\n",
    "   0. Find the gene family with the highest frequency \n",
    "       + by combining \n",
    "           + pandas dataframe\n",
    "           + MySQL database\n",
    "       + loading database into dataframe\n",
    "       + loading dataframe into database\n",
    "       \n",
    "links:\n",
    "+ [Reference manual](http://dev.mysql.com/doc/refman/5.7/en/)\n",
    "+ [HUGO Gene Nomenclature Committee (HGNC)](http://www.genenames.org/)"
   ]
  },
  {
   "cell_type": "markdown",
   "metadata": {},
   "source": [
    "## <a id=\"tasks\">Tasks</a>"
   ]
  },
  {
   "cell_type": "markdown",
   "metadata": {},
   "source": [
    "### Load the JSON file"
   ]
  },
  {
   "cell_type": "markdown",
   "metadata": {},
   "source": [
    "The data is in the JSON format - this means that all atomic data is in nested dictionaries and lists."
   ]
  },
  {
   "cell_type": "code",
   "execution_count": 15,
   "metadata": {
    "collapsed": false
   },
   "outputs": [],
   "source": [
    "data_path = os.path.join(base,'data', 'exercise02', 'hgnc_complete_set.json')\n",
    "\n",
    "with open(data_path) as f:\n",
    "    hgnc_json = json.load(f)"
   ]
  },
  {
   "cell_type": "markdown",
   "metadata": {},
   "source": [
    "### Exploration of data structure\n",
    "\n",
    "We want to understand what data is inside this json. To do this, we'll look at the keys of each nested dictionary.\n",
    "\n",
    "The first set of keys shows that there is a response (the data) and a response header (data about the way it was downloaded). We will further explore the response."
   ]
  },
  {
   "cell_type": "code",
   "execution_count": 6,
   "metadata": {
    "collapsed": false
   },
   "outputs": [
    {
     "data": {
      "text/plain": [
       "dict_keys(['responseHeader', 'response'])"
      ]
     },
     "execution_count": 6,
     "metadata": {},
     "output_type": "execute_result"
    }
   ],
   "source": [
    "hgnc_json.keys()"
   ]
  },
  {
   "cell_type": "markdown",
   "metadata": {},
   "source": [
    "The response contains `numFound`, which lists how many results there are in `docs`. Disregard `start`."
   ]
  },
  {
   "cell_type": "code",
   "execution_count": 50,
   "metadata": {
    "collapsed": false
   },
   "outputs": [
    {
     "data": {
      "text/plain": [
       "dict_keys(['numFound', 'docs', 'start'])"
      ]
     },
     "execution_count": 50,
     "metadata": {},
     "output_type": "execute_result"
    }
   ],
   "source": [
    "hgnc_json['response'].keys()"
   ]
  },
  {
   "cell_type": "code",
   "execution_count": 11,
   "metadata": {
    "collapsed": false
   },
   "outputs": [
    {
     "data": {
      "text/plain": [
       "{'_version_': 1546503090507612160,\n",
       " 'ccds_id': ['CCDS12976'],\n",
       " 'cosmic': 'A1BG',\n",
       " 'date_approved_reserved': '1989-06-30',\n",
       " 'date_modified': '2015-07-13',\n",
       " 'ensembl_gene_id': 'ENSG00000121410',\n",
       " 'entrez_id': '1',\n",
       " 'gene_family': ['Immunoglobulin like domain containing'],\n",
       " 'gene_family_id': [594],\n",
       " 'hgnc_id': 'HGNC:5',\n",
       " 'location': '19q13.43',\n",
       " 'location_sortable': '19q13.43',\n",
       " 'locus_group': 'protein-coding gene',\n",
       " 'locus_type': 'gene with protein product',\n",
       " 'merops': 'I43.950',\n",
       " 'mgd_id': ['MGI:2152878'],\n",
       " 'name': 'alpha-1-B glycoprotein',\n",
       " 'omim_id': [138670],\n",
       " 'pubmed_id': [2591067],\n",
       " 'refseq_accession': ['NM_130786'],\n",
       " 'rgd_id': ['RGD:69417'],\n",
       " 'status': 'Approved',\n",
       " 'symbol': 'A1BG',\n",
       " 'ucsc_id': 'uc002qsd.5',\n",
       " 'uniprot_ids': ['P04217'],\n",
       " 'uuid': 'c5fd27c5-7aa4-447c-83b0-1ccc73d90925',\n",
       " 'vega_id': 'OTTHUMG00000183507'}"
      ]
     },
     "execution_count": 11,
     "metadata": {},
     "output_type": "execute_result"
    }
   ],
   "source": [
    "hgnc_json['response']['docs'][0]"
   ]
  },
  {
   "cell_type": "markdown",
   "metadata": {},
   "source": [
    "`docs` is a list where each entry is the data associated with a gene. Below is an example of the first element of this list:"
   ]
  },
  {
   "cell_type": "code",
   "execution_count": 55,
   "metadata": {
    "collapsed": false
   },
   "outputs": [
    {
     "name": "stdout",
     "output_type": "stream",
     "text": [
      "{\n",
      "     \"locus_type\": \"gene with protein product\",\n",
      "     \"pubmed_id\": [\n",
      "          2591067\n",
      "     ],\n",
      "     \"date_modified\": \"2015-07-13\",\n",
      "     \"uniprot_ids\": [\n",
      "          \"P04217\"\n",
      "     ],\n",
      "     \"status\": \"Approved\",\n",
      "     \"vega_id\": \"OTTHUMG00000183507\",\n",
      "     \"rgd_id\": [\n",
      "          \"RGD:69417\"\n",
      "     ],\n",
      "     \"refseq_accession\": [\n",
      "          \"NM_130786\"\n",
      "     ],\n",
      "     \"name\": \"alpha-1-B glycoprotein\",\n",
      "     \"gene_family\": [\n",
      "          \"Immunoglobulin like domain containing\"\n",
      "     ],\n",
      "     \"ensembl_gene_id\": \"ENSG00000121410\",\n",
      "     \"cosmic\": \"A1BG\",\n",
      "     \"merops\": \"I43.950\",\n",
      "     \"hgnc_id\": \"HGNC:5\",\n",
      "     \"location\": \"19q13.43\",\n",
      "     \"omim_id\": [\n",
      "          138670\n",
      "     ],\n",
      "     \"uuid\": \"c5fd27c5-7aa4-447c-83b0-1ccc73d90925\",\n",
      "     \"symbol\": \"A1BG\",\n",
      "     \"ccds_id\": [\n",
      "          \"CCDS12976\"\n",
      "     ],\n",
      "     \"date_approved_reserved\": \"1989-06-30\",\n",
      "     \"ucsc_id\": \"uc002qsd.5\",\n",
      "     \"location_sortable\": \"19q13.43\",\n",
      "     \"_version_\": 1546503090507612160,\n",
      "     \"gene_family_id\": [\n",
      "          594\n",
      "     ],\n",
      "     \"locus_group\": \"protein-coding gene\",\n",
      "     \"mgd_id\": [\n",
      "          \"MGI:2152878\"\n",
      "     ],\n",
      "     \"entrez_id\": \"1\"\n",
      "}\n"
     ]
    }
   ],
   "source": [
    "print(json.dumps(hgnc_json['response']['docs'][0], indent=5))"
   ]
  },
  {
   "cell_type": "markdown",
   "metadata": {
    "collapsed": true
   },
   "source": [
    "### Create a Database Schema\n",
    "\n",
    "Analyze the structure of each entry. Depending on the data type, decide what sort of relation you need to store the data. For example, a list would correspond to a 1-to-many relationship, while an atomic would correspond to a 1-to-1.\n",
    "\n",
    "Your goal is to connect to your database, build an appropriate schema, and upload the data from the hgnc_json file. \n",
    "\n",
    "Choose one 1-to-n relationship and some 1-to-1 for your schema."
   ]
  },
  {
   "cell_type": "code",
   "execution_count": 5,
   "metadata": {
    "collapsed": false
   },
   "outputs": [],
   "source": [
    "secrets_path = os.path.join(base, 'secrets.json')\n",
    "\n",
    "with open(secrets_path) as f:\n",
    "    secrets = json.load(f)\n",
    "    \n",
    "# for mysql you have a port: 3306"
   ]
  },
  {
   "cell_type": "code",
   "execution_count": 6,
   "metadata": {
    "collapsed": true
   },
   "outputs": [],
   "source": [
    "pd.io.sql._SQL_TYPES['string']['mysql']='VARCHAR (255)'\n",
    "# fixes the problem of too short varchar fields\n",
    "\n",
    "# if you find a problem in a specific library in python,\n",
    "# there are often solutions to solve it,\n",
    "# whether you have precompiled languages\n",
    "# "
   ]
  },
  {
   "cell_type": "code",
   "execution_count": 58,
   "metadata": {
    "collapsed": false
   },
   "outputs": [],
   "source": [
    "db_params = secrets['test_db']\n",
    "\n",
    "conn = pymysql.connect(**db_params)\n",
    "# ** => splat"
   ]
  },
  {
   "cell_type": "code",
   "execution_count": 59,
   "metadata": {
    "collapsed": false
   },
   "outputs": [
    {
     "ename": "TypeError",
     "evalue": "print() argument after * must be an iterable, not NoneType",
     "output_type": "error",
     "traceback": [
      "\u001b[0;31m---------------------------------------------------------------------------\u001b[0m",
      "\u001b[0;31mTypeError\u001b[0m                                 Traceback (most recent call last)",
      "\u001b[0;32m<ipython-input-59-5ffb81716577>\u001b[0m in \u001b[0;36m<module>\u001b[0;34m()\u001b[0m\n\u001b[1;32m      5\u001b[0m \u001b[0;32mwith\u001b[0m \u001b[0mconn\u001b[0m\u001b[0;34m.\u001b[0m\u001b[0mcursor\u001b[0m\u001b[0;34m(\u001b[0m\u001b[0mpymysql\u001b[0m\u001b[0;34m.\u001b[0m\u001b[0mcursors\u001b[0m\u001b[0;34m.\u001b[0m\u001b[0mDictCursor\u001b[0m\u001b[0;34m)\u001b[0m \u001b[0;32mas\u001b[0m \u001b[0mcursor\u001b[0m\u001b[0;34m:\u001b[0m\u001b[0;34m\u001b[0m\u001b[0m\n\u001b[1;32m      6\u001b[0m     \u001b[0mcursor\u001b[0m\u001b[0;34m.\u001b[0m\u001b[0mexecute\u001b[0m\u001b[0;34m(\u001b[0m\u001b[0mschema_sql\u001b[0m\u001b[0;34m)\u001b[0m\u001b[0;34m\u001b[0m\u001b[0m\n\u001b[0;32m----> 7\u001b[0;31m     \u001b[0mprint\u001b[0m\u001b[0;34m(\u001b[0m\u001b[0;34m*\u001b[0m\u001b[0mcursor\u001b[0m\u001b[0;34m.\u001b[0m\u001b[0mfetchone\u001b[0m\u001b[0;34m(\u001b[0m\u001b[0;34m)\u001b[0m\u001b[0;34m)\u001b[0m\u001b[0;34m\u001b[0m\u001b[0m\n\u001b[0m",
      "\u001b[0;31mTypeError\u001b[0m: print() argument after * must be an iterable, not NoneType"
     ]
    }
   ],
   "source": [
    "schema_sql = \"\"\"\n",
    "use hgnc\n",
    "\"\"\"\n",
    "\n",
    "with conn.cursor(pymysql.cursors.DictCursor) as cursor:\n",
    "    cursor.execute(schema_sql)\n",
    "    print(*cursor.fetchone())"
   ]
  },
  {
   "cell_type": "markdown",
   "metadata": {},
   "source": [
    "## ToDos\n",
    "+ create a database with the name `hgnc`\n",
    "+ Analyse you data structure by iterating over the data and identify \n",
    "    + datatypes\n",
    "    + relationship type (1 to 1, 1 to many)\n",
    "+ use a new cursor\n",
    "+ follow the suggestions below\n",
    "+ Upload the Data"
   ]
  },
  {
   "cell_type": "markdown",
   "metadata": {
    "collapsed": true
   },
   "source": [
    "## Solution"
   ]
  },
  {
   "cell_type": "markdown",
   "metadata": {},
   "source": [
    "## Create the database "
   ]
  },
  {
   "cell_type": "code",
   "execution_count": 10,
   "metadata": {
    "collapsed": false
   },
   "outputs": [],
   "source": [
    "conn = pymysql.connect(**secrets['test_db'])\n",
    "cursor = conn.cursor(pymysql.cursors.DictCursor)"
   ]
  },
  {
   "cell_type": "code",
   "execution_count": 8,
   "metadata": {
    "collapsed": false,
    "scrolled": false
   },
   "outputs": [
    {
     "name": "stderr",
     "output_type": "stream",
     "text": [
      "/Users/alex/anaconda/lib/python3.5/site-packages/pymysql/cursors.py:323: Warning: (1007, \"Can't create database 'hgnc'; database exists\")\n",
      "  self._do_get_result()\n"
     ]
    },
    {
     "data": {
      "text/plain": [
       "1"
      ]
     },
     "execution_count": 8,
     "metadata": {},
     "output_type": "execute_result"
    },
    {
     "name": "stdout",
     "output_type": "stream",
     "text": [
      "None\n"
     ]
    }
   ],
   "source": [
    "schema_sql = \"\"\"\n",
    "create schema if not exists hgnc\n",
    "\"\"\"\n",
    "\n",
    "with conn.cursor(pymysql.cursors.DictCursor) as cursor:\n",
    "    cursor.execute(schema_sql)\n",
    "    print(cursor.fetchone())"
   ]
  },
  {
   "cell_type": "code",
   "execution_count": 12,
   "metadata": {
    "collapsed": false,
    "scrolled": false
   },
   "outputs": [
    {
     "data": {
      "text/plain": [
       "1"
      ]
     },
     "execution_count": 12,
     "metadata": {},
     "output_type": "execute_result"
    },
    {
     "data": {
      "text/plain": [
       "[{'Tables_in_hgnc': 'gene'}]"
      ]
     },
     "execution_count": 12,
     "metadata": {},
     "output_type": "execute_result"
    }
   ],
   "source": [
    "# cursor.execute('use hgnc')\n",
    "cursor.execute('show tables')\n",
    "cursor.fetchall()"
   ]
  },
  {
   "cell_type": "markdown",
   "metadata": {},
   "source": [
    "### Analyse you data structure by iterating over the data"
   ]
  },
  {
   "cell_type": "code",
   "execution_count": 16,
   "metadata": {
    "collapsed": false
   },
   "outputs": [
    {
     "name": "stdout",
     "output_type": "stream",
     "text": [
      "<class 'list'>\n"
     ]
    }
   ],
   "source": [
    "docs = hgnc_json['response']['docs']\n",
    "print(type(docs))"
   ]
  },
  {
   "cell_type": "markdown",
   "metadata": {},
   "source": [
    "#### Analysis of hgnc_json data types:\n",
    "As we can see, there is no mixed types:"
   ]
  },
  {
   "cell_type": "code",
   "execution_count": 17,
   "metadata": {
    "collapsed": false
   },
   "outputs": [
    {
     "data": {
      "text/plain": [
       "{'_version_': [int],\n",
       " 'alias_name': [list, str],\n",
       " 'alias_symbol': [list, str],\n",
       " 'bioparadigms_slc': [str],\n",
       " 'ccds_id': [list, str],\n",
       " 'cd': [str],\n",
       " 'cosmic': [str],\n",
       " 'date_approved_reserved': [str],\n",
       " 'date_modified': [str],\n",
       " 'date_name_changed': [str],\n",
       " 'date_symbol_changed': [str],\n",
       " 'ena': [list, str],\n",
       " 'ensembl_gene_id': [str],\n",
       " 'entrez_id': [str],\n",
       " 'enzyme_id': [list, str],\n",
       " 'gene_family': [list, str],\n",
       " 'gene_family_id': [list, int],\n",
       " 'hgnc_id': [str],\n",
       " 'homeodb': [int],\n",
       " 'horde_id': [str],\n",
       " 'imgt': [str],\n",
       " 'intermediate_filament_db': [str],\n",
       " 'iuphar': [str],\n",
       " 'kznf_gene_catalog': [int],\n",
       " 'lncrnadb': [str],\n",
       " 'location': [str],\n",
       " 'location_sortable': [str],\n",
       " 'locus_group': [str],\n",
       " 'locus_type': [str],\n",
       " 'lsdb': [list, str],\n",
       " 'mamit-trnadb': [int],\n",
       " 'merops': [str],\n",
       " 'mgd_id': [list, str],\n",
       " 'mirbase': [str],\n",
       " 'name': [str],\n",
       " 'omim_id': [list, int],\n",
       " 'orphanet': [int],\n",
       " 'prev_name': [list, str],\n",
       " 'prev_symbol': [list, str],\n",
       " 'pseudogene.org': [str],\n",
       " 'pubmed_id': [list, int],\n",
       " 'refseq_accession': [list, str],\n",
       " 'rgd_id': [list, str],\n",
       " 'snornabase': [str],\n",
       " 'status': [str],\n",
       " 'symbol': [str],\n",
       " 'ucsc_id': [str],\n",
       " 'uniprot_ids': [list, str],\n",
       " 'uuid': [str],\n",
       " 'vega_id': [str]}"
      ]
     },
     "execution_count": 17,
     "metadata": {},
     "output_type": "execute_result"
    }
   ],
   "source": [
    "dataTypes = {}\n",
    "for entry in docs:\n",
    "    for key, value in entry.items():\n",
    "        if key not in dataTypes:\n",
    "            dataTypes[key] = [type(value)]\n",
    "            if isinstance(value, list):\n",
    "                dataTypes[key].append(type(value[0]))\n",
    "        elif type(value) not in dataTypes[key]:\n",
    "            dataTypes[key].append(type(value))\n",
    "dataTypes"
   ]
  },
  {
   "cell_type": "markdown",
   "metadata": {},
   "source": [
    "#### Same, done with set, but it works slower"
   ]
  },
  {
   "cell_type": "code",
   "execution_count": 88,
   "metadata": {
    "collapsed": false,
    "scrolled": false
   },
   "outputs": [
    {
     "data": {
      "text/plain": [
       "defaultdict(set,\n",
       "            {'_version_': {int},\n",
       "             'alias_name': {str, list},\n",
       "             'alias_symbol': {str, list},\n",
       "             'bioparadigms_slc': {str},\n",
       "             'ccds_id': {str, list},\n",
       "             'cd': {str},\n",
       "             'cosmic': {str},\n",
       "             'date_approved_reserved': {str},\n",
       "             'date_modified': {str},\n",
       "             'date_name_changed': {str},\n",
       "             'date_symbol_changed': {str},\n",
       "             'ena': {str, list},\n",
       "             'ensembl_gene_id': {str},\n",
       "             'entrez_id': {str},\n",
       "             'enzyme_id': {str, list},\n",
       "             'gene_family': {str, list},\n",
       "             'gene_family_id': {int, list},\n",
       "             'hgnc_id': {str},\n",
       "             'homeodb': {int},\n",
       "             'horde_id': {str},\n",
       "             'imgt': {str},\n",
       "             'intermediate_filament_db': {str},\n",
       "             'iuphar': {str},\n",
       "             'kznf_gene_catalog': {int},\n",
       "             'lncrnadb': {str},\n",
       "             'location': {str},\n",
       "             'location_sortable': {str},\n",
       "             'locus_group': {str},\n",
       "             'locus_type': {str},\n",
       "             'lsdb': {str, list},\n",
       "             'mamit-trnadb': {int},\n",
       "             'merops': {str},\n",
       "             'mgd_id': {str, list},\n",
       "             'mirbase': {str},\n",
       "             'name': {str},\n",
       "             'omim_id': {int, list},\n",
       "             'orphanet': {int},\n",
       "             'prev_name': {str, list},\n",
       "             'prev_symbol': {str, list},\n",
       "             'pseudogene.org': {str},\n",
       "             'pubmed_id': {int, list},\n",
       "             'refseq_accession': {str, list},\n",
       "             'rgd_id': {str, list},\n",
       "             'snornabase': {str},\n",
       "             'status': {str},\n",
       "             'symbol': {str},\n",
       "             'ucsc_id': {str},\n",
       "             'uniprot_ids': {str, list},\n",
       "             'uuid': {str},\n",
       "             'vega_id': {str}})"
      ]
     },
     "execution_count": 88,
     "metadata": {},
     "output_type": "execute_result"
    }
   ],
   "source": [
    "from collections import defaultdict\n",
    "dataTypes = defaultdict(set)\n",
    "# ... write here your code to fill up the dataTypes dictionary like\n",
    "# dataType = {'column1':[int],'column2':[str,int],...}\n",
    "\n",
    "for doc in docs:\n",
    "    for key, value in doc.items():\n",
    "        if isinstance(value, list):\n",
    "            dataTypes[key].add(type(value))\n",
    "            [dataTypes[key].add(type(value[i])) for i in range(len(value))]\n",
    "        else:\n",
    "            dataTypes[key].add(type(value))\n",
    "dataTypes"
   ]
  },
  {
   "cell_type": "markdown",
   "metadata": {},
   "source": [
    "Now we check if there could be more than one datatype per key. We can do this by iterating over the dictionary `dataTypes`. This time we have curly brackets surronding the list compression. This create a set."
   ]
  },
  {
   "cell_type": "code",
   "execution_count": 67,
   "metadata": {
    "collapsed": false
   },
   "outputs": [
    {
     "data": {
      "text/plain": [
       "{1, 2}"
      ]
     },
     "execution_count": 67,
     "metadata": {},
     "output_type": "execute_result"
    }
   ],
   "source": [
    "my_lst = [1,1,1,1,12,2,2,3,4,54,5,6]\n",
    "{i for i in my_lst if i<3}\n",
    "# now you have a set!"
   ]
  },
  {
   "cell_type": "code",
   "execution_count": null,
   "metadata": {
    "collapsed": true
   },
   "outputs": [],
   "source": [
    "# Now deside if we have perhaps mixed datatypes in your columns. That could be a problem"
   ]
  },
  {
   "cell_type": "code",
   "execution_count": null,
   "metadata": {
    "collapsed": true
   },
   "outputs": [],
   "source": [
    "# create a list of columns which can be used for the creation\n",
    "# of the main table because they are 1-to-1 and \n",
    "# a list of columns with more than value "
   ]
  },
  {
   "cell_type": "code",
   "execution_count": 89,
   "metadata": {
    "collapsed": true
   },
   "outputs": [],
   "source": [
    "lst_1_to_1 = [key for key, value in dataTypes.items() if len(value) == 1]\n",
    "lst_1_to_many = [key for key, value in dataTypes.items() if len(value) == 2]"
   ]
  },
  {
   "cell_type": "code",
   "execution_count": 91,
   "metadata": {
    "collapsed": false
   },
   "outputs": [
    {
     "data": {
      "text/plain": [
       "['locus_type',\n",
       " 'date_modified',\n",
       " 'snornabase',\n",
       " 'location_sortable',\n",
       " 'homeodb',\n",
       " 'date_symbol_changed',\n",
       " 'horde_id',\n",
       " 'intermediate_filament_db',\n",
       " 'merops',\n",
       " 'bioparadigms_slc',\n",
       " 'date_approved_reserved',\n",
       " 'ucsc_id',\n",
       " 'mamit-trnadb',\n",
       " '_version_',\n",
       " 'locus_group',\n",
       " 'imgt',\n",
       " 'pseudogene.org',\n",
       " 'vega_id',\n",
       " 'status',\n",
       " 'name',\n",
       " 'location',\n",
       " 'iuphar',\n",
       " 'ensembl_gene_id',\n",
       " 'cosmic',\n",
       " 'hgnc_id',\n",
       " 'uuid',\n",
       " 'kznf_gene_catalog',\n",
       " 'symbol',\n",
       " 'cd',\n",
       " 'mirbase',\n",
       " 'date_name_changed',\n",
       " 'orphanet',\n",
       " 'lncrnadb',\n",
       " 'entrez_id']"
      ]
     },
     "execution_count": 91,
     "metadata": {},
     "output_type": "execute_result"
    },
    {
     "data": {
      "text/plain": [
       "['pubmed_id',\n",
       " 'alias_symbol',\n",
       " 'uniprot_ids',\n",
       " 'ena',\n",
       " 'refseq_accession',\n",
       " 'gene_family',\n",
       " 'omim_id',\n",
       " 'prev_symbol',\n",
       " 'lsdb',\n",
       " 'enzyme_id',\n",
       " 'gene_family_id',\n",
       " 'alias_name',\n",
       " 'rgd_id',\n",
       " 'prev_name',\n",
       " 'ccds_id',\n",
       " 'mgd_id']"
      ]
     },
     "execution_count": 91,
     "metadata": {},
     "output_type": "execute_result"
    }
   ],
   "source": [
    "lst_1_to_1\n",
    "lst_1_to_many"
   ]
  },
  {
   "cell_type": "markdown",
   "metadata": {},
   "source": [
    "Let's create automatically the main table `gene` with `to_sql` method of `pandas.DataFrame`. Exclude the columns which"
   ]
  },
  {
   "cell_type": "code",
   "execution_count": null,
   "metadata": {
    "collapsed": true
   },
   "outputs": [],
   "source": [
    "# create on the fly and try to put it in db? or something like that"
   ]
  },
  {
   "cell_type": "code",
   "execution_count": null,
   "metadata": {
    "collapsed": true
   },
   "outputs": [],
   "source": []
  },
  {
   "cell_type": "code",
   "execution_count": null,
   "metadata": {
    "collapsed": true
   },
   "outputs": [],
   "source": [
    "# load the json into a DataFrame as we did it before\n",
    "# 1. all columns in the table named 'gene'\n",
    "# 2. create dynamically first DataFrames and then\n",
    "#    tables named as the columns with 1-to-many relation. \n",
    "#    Store also the foreign key in this DataFrame "
   ]
  },
  {
   "cell_type": "code",
   "execution_count": null,
   "metadata": {
    "collapsed": false
   },
   "outputs": [],
   "source": [
    "# Code 1"
   ]
  },
  {
   "cell_type": "code",
   "execution_count": 17,
   "metadata": {
    "collapsed": true
   },
   "outputs": [],
   "source": [
    "df_hgnc = pd.DataFrame(docs)"
   ]
  },
  {
   "cell_type": "code",
   "execution_count": null,
   "metadata": {
    "collapsed": true
   },
   "outputs": [],
   "source": [
    "kwargs = {\n",
    "    \n",
    "}"
   ]
  },
  {
   "cell_type": "code",
   "execution_count": null,
   "metadata": {
    "collapsed": true
   },
   "outputs": [],
   "source": [
    "regex_not_allwed = re.compile[\"[^0-9a-zA-Z$]\"]"
   ]
  },
  {
   "cell_type": "markdown",
   "metadata": {},
   "source": [
    "Check this MySQL website [Schema Object Names](http://dev.mysql.com/doc/refman/5.7/en/identifiers.html) for valid column names.\n",
    "\n",
    "```\n",
    "[^0-9a-zA-Z$_] are allowed characters\n",
    "```"
   ]
  },
  {
   "cell_type": "code",
   "execution_count": null,
   "metadata": {
    "collapsed": false
   },
   "outputs": [],
   "source": [
    "# correct column names with regex"
   ]
  },
  {
   "cell_type": "markdown",
   "metadata": {},
   "source": [
    "Let's rename our columns in the dataframe"
   ]
  },
  {
   "cell_type": "markdown",
   "metadata": {},
   "source": [
    "### 1-to1"
   ]
  },
  {
   "cell_type": "markdown",
   "metadata": {},
   "source": [
    "### 1-to-many"
   ]
  }
 ],
 "metadata": {
  "kernelspec": {
   "display_name": "Python 3",
   "language": "python",
   "name": "python3"
  },
  "language_info": {
   "codemirror_mode": {
    "name": "ipython",
    "version": 3
   },
   "file_extension": ".py",
   "mimetype": "text/x-python",
   "name": "python",
   "nbconvert_exporter": "python",
   "pygments_lexer": "ipython3",
   "version": "3.5.2"
  }
 },
 "nbformat": 4,
 "nbformat_minor": 1
}
